{
 "cells": [
  {
   "cell_type": "markdown",
   "metadata": {},
   "source": [
    "## HALO position and attitude"
   ]
  },
  {
   "cell_type": "markdown",
   "metadata": {},
   "source": [
    "### Data access\n",
    "Some of the data, like the preliminary data of the HALO-(AC)<sup>3</sup> campaign, is stored on the (AC)<sup>3</sup> nextcloud server. This requires username and password as credentials ([registration](https://cloud.ac3-tr.de/index.php/login)) that need to be loaded from environment variables. "
   ]
  },
  {
   "cell_type": "code",
   "execution_count": 11,
   "metadata": {},
   "outputs": [],
   "source": [
    "import ac3airborne\n",
    "from ac3airborne.tools import flightphase\n",
    "import numpy as np\n",
    "import matplotlib.pyplot as plt\n",
    "from matplotlib.colors import to_hex\n",
    "import matplotlib.dates as mdates\n",
    "from matplotlib import cm\n",
    "import ipyleaflet\n",
    "from ipyleaflet import Polyline, Map, basemaps, basemap_to_tiles\n",
    "from ipywidgets import Layout\n",
    "from simplification.cutil import simplify_coords_idx\n",
    "%matplotlib inline"
   ]
  },
  {
   "cell_type": "code",
   "execution_count": 4,
   "metadata": {},
   "outputs": [],
   "source": [
    "import os\n",
    "\n",
    "# local caching\n",
    "try:\n",
    "    from dotenv import load_dotenv\n",
    "\n",
    "    load_dotenv()\n",
    "\n",
    "    local_storage = os.environ['INTAKE_CACHE']\n",
    "except ImportError:\n",
    "    local_storage = '/tmp/'\n",
    "\n",
    "kwds = {'simplecache': dict(\n",
    "    cache_storage=local_storage, \n",
    "    same_names=True\n",
    ")}"
   ]
  },
  {
   "cell_type": "code",
   "execution_count": 5,
   "metadata": {},
   "outputs": [],
   "source": [
    "import ac3airborne"
   ]
  },
  {
   "cell_type": "markdown",
   "metadata": {},
   "source": [
    "Show available data sets"
   ]
  },
  {
   "cell_type": "code",
   "execution_count": 6,
   "metadata": {},
   "outputs": [],
   "source": [
    "cat = ac3airborne.get_intake_catalog()\n",
    "meta = ac3airborne.get_flight_segments()"
   ]
  },
  {
   "cell_type": "code",
   "execution_count": 7,
   "metadata": {
    "tags": []
   },
   "outputs": [],
   "source": [
    "mission = 'HALO-AC3'\n",
    "platform = 'HALO'\n",
    "flight_id = 'HALO-AC3_HALO_RF03'"
   ]
  },
  {
   "cell_type": "code",
   "execution_count": 8,
   "metadata": {},
   "outputs": [],
   "source": [
    "flight = meta[mission][platform][flight_id]"
   ]
  },
  {
   "cell_type": "code",
   "execution_count": 9,
   "metadata": {},
   "outputs": [],
   "source": [
    "# read gps\n",
    "ds_gps_ins = cat[mission][platform]['GPS_INS'][flight_id](storage_options=kwds).to_dask()"
   ]
  },
  {
   "cell_type": "code",
   "execution_count": 13,
   "metadata": {},
   "outputs": [],
   "source": [
    "def colors(n):\n",
    "    \"\"\"Creates set of random colors of length n\"\"\"\n",
    "    \n",
    "    cmap = cm.get_cmap('gist_rainbow')\n",
    "    rnd = np.random.uniform(low=0, high=1, size=n)\n",
    "    cols = cmap(rnd)\n",
    "    \n",
    "    return cols\n",
    "\n",
    "\n",
    "def simplify_dataset(ds, tolerance):\n",
    "    indices_to_take = simplify_coords_idx(np.stack([ds.lat.values, ds.lon.values], axis=1), tolerance)\n",
    "    return ds.isel(time=indices_to_take)"
   ]
  },
  {
   "cell_type": "code",
   "execution_count": 14,
   "metadata": {},
   "outputs": [
    {
     "name": "stderr",
     "output_type": "stream",
     "text": [
      "/tmp/ipykernel_1520045/4205725992.py:4: MatplotlibDeprecationWarning: The get_cmap function was deprecated in Matplotlib 3.7 and will be removed two minor releases later. Use ``matplotlib.colormaps[name]`` or ``matplotlib.colormaps.get_cmap(obj)`` instead.\n",
      "  cmap = cm.get_cmap('gist_rainbow')\n"
     ]
    },
    {
     "data": {
      "application/vnd.jupyter.widget-view+json": {
       "model_id": "d70f9fc42a37495abb3529580e03e39f",
       "version_major": 2,
       "version_minor": 0
      },
      "text/plain": [
       "Map(center=[80, 10], controls=(ZoomControl(options=['position', 'zoom_in_text', 'zoom_in_title', 'zoom_out_tex…"
      ]
     },
     "metadata": {},
     "output_type": "display_data"
    }
   ],
   "source": [
    "# plot map\n",
    "m = Map(basemap=basemap_to_tiles(basemaps.NASAGIBS.ModisTerraTrueColorCR, str(flight['date'])),\n",
    "        center=(80, 10),\n",
    "        zoom=4,\n",
    "        scroll_wheel_zoom=True,\n",
    "        layout=Layout(width='1000px', height='1000px')\n",
    "        )\n",
    "\n",
    "col_segments = colors(len(flight['segments']))\n",
    "\n",
    "for i, segment in enumerate(flight['segments']):\n",
    "    \n",
    "    # reduce flight segment\n",
    "    ds_reduced = simplify_dataset(ds_gps_ins.sel(time=slice(segment['start'], \n",
    "                                                            segment['end'])), \n",
    "                                  1e-5)\n",
    "    \n",
    "    # plot flight segment\n",
    "    line = Polyline(locations=np.stack([ds_reduced.lat.values, ds_reduced.lon.values], axis=1).tolist(),\n",
    "                    color=to_hex(col_segments[i]),\n",
    "                    fill=False,\n",
    "                    weight=2,\n",
    "                    name=str(i) + ': ' + segment['name'])\n",
    "    m.add_layer(line)\n",
    "\n",
    "m.add_control(ipyleaflet.ScaleControl())\n",
    "m.add_control(ipyleaflet.LayersControl(position='topright'))\n",
    "m.add_control(ipyleaflet.FullScreenControl())\n",
    "\n",
    "display(m)"
   ]
  },
  {
   "cell_type": "code",
   "execution_count": null,
   "metadata": {},
   "outputs": [],
   "source": []
  }
 ],
 "metadata": {
  "kernelspec": {
   "display_name": "ac3",
   "language": "python",
   "name": "python3"
  },
  "language_info": {
   "codemirror_mode": {
    "name": "ipython",
    "version": 3
   },
   "file_extension": ".py",
   "mimetype": "text/x-python",
   "name": "python",
   "nbconvert_exporter": "python",
   "pygments_lexer": "ipython3",
   "version": "3.10.12"
  }
 },
 "nbformat": 4,
 "nbformat_minor": 4
}
