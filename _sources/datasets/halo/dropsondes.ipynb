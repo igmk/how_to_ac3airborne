{
 "cells": [
  {
   "cell_type": "markdown",
   "metadata": {},
   "source": [
    "# Dropsondes\n",
    "The following example demonstrates the use of the data from the dropsondes launched from HALO during HALO-AC3. \n",
    "\n",
    "If you have questions or if you would like to use the data for a publication, please don't hesitate to get in contact with the dataset authors as stated in the dataset attributes `contact` or `author`."
   ]
  },
  {
   "cell_type": "markdown",
   "metadata": {},
   "source": [
    "## Data access\n",
    "Some of the data, like the preliminary data of the HALO-(AC)<sup>3</sup> campaign, is stored on the (AC)<sup>3</sup> nextcloud server. This requires username and password as credentials ([registration](https://cloud.ac3-tr.de/index.php/login)) that need to be loaded from environment variables. "
   ]
  },
  {
   "cell_type": "code",
   "execution_count": 1,
   "metadata": {},
   "outputs": [],
   "source": [
    "import os\n",
    "ac3cloud_username = os.environ['AC3_USER']\n",
    "ac3cloud_password = os.environ['AC3_PASSWORD']"
   ]
  },
  {
   "cell_type": "markdown",
   "metadata": {},
   "source": [
    "To analyse the data they first have to be loaded by importing the (AC)<sup>3</sup> airborne module and load the meta data catalog. To do so, the ac3airborne package has to be installed. More information on how to do that and about the catalog can be found [here](https://github.com/igmk/ac3airborne-intake#ac3airborne-intake-catalogue)."
   ]
  },
  {
   "cell_type": "code",
   "execution_count": 2,
   "metadata": {},
   "outputs": [],
   "source": [
    "import ac3airborne"
   ]
  },
  {
   "cell_type": "markdown",
   "metadata": {},
   "source": [
    "Show available data sets"
   ]
  },
  {
   "cell_type": "code",
   "execution_count": 3,
   "metadata": {},
   "outputs": [],
   "source": [
    "cat = ac3airborne.get_intake_catalog()"
   ]
  },
  {
   "cell_type": "code",
   "execution_count": 4,
   "metadata": {},
   "outputs": [
    {
     "data": {
      "text/plain": [
       "['BAHAMAS',\n",
       " 'BACARDI',\n",
       " 'DROPSONDES',\n",
       " 'GPS_INS',\n",
       " 'HAMP_KV',\n",
       " 'HAMP_11990',\n",
       " 'HAMP_183',\n",
       " 'HAMP_MIRA',\n",
       " 'SMART']"
      ]
     },
     "execution_count": 4,
     "metadata": {},
     "output_type": "execute_result"
    }
   ],
   "source": [
    "list(cat['HALO-AC3']['HALO'])"
   ]
  },
  {
   "cell_type": "markdown",
   "metadata": {},
   "source": [
    "Get the flight segments. We need to load an older version that includes the HALO-AC3 flights. The version labeled _latest_ only holds flights from campaigns pre HALO-AC3."
   ]
  },
  {
   "cell_type": "code",
   "execution_count": 5,
   "metadata": {
    "jupyter": {
     "source_hidden": true
    },
    "tags": []
   },
   "outputs": [],
   "source": [
    "meta = ac3airborne.get_flight_segments()"
   ]
  },
  {
   "cell_type": "code",
   "execution_count": 6,
   "metadata": {},
   "outputs": [],
   "source": [
    "flight = 'HALO-AC3_HALO_RF03'"
   ]
  },
  {
   "cell_type": "markdown",
   "metadata": {},
   "source": [
    "Load GPS and INS recorded by the SMART instrument and get takeoff and landing times."
   ]
  },
  {
   "cell_type": "code",
   "execution_count": 7,
   "metadata": {
    "tags": []
   },
   "outputs": [
    {
     "name": "stderr",
     "output_type": "stream",
     "text": [
      "Invalid MIT-MAGIC-COOKIE-1 key"
     ]
    }
   ],
   "source": [
    "gps_ins = cat['HALO-AC3']['HALO']['GPS_INS'][flight](user=ac3cloud_username,password=ac3cloud_password).to_dask()\n",
    "\n",
    "takeoff = meta['HALO-AC3']['HALO'][flight]['takeoff']\n",
    "landing = meta['HALO-AC3']['HALO'][flight]['landing']"
   ]
  }
 ],
 "metadata": {
  "kernelspec": {
   "display_name": "Python 3 (ipykernel)",
   "language": "python",
   "name": "python3"
  },
  "language_info": {
   "codemirror_mode": {
    "name": "ipython",
    "version": 3
   },
   "file_extension": ".py",
   "mimetype": "text/x-python",
   "name": "python",
   "nbconvert_exporter": "python",
   "pygments_lexer": "ipython3",
   "version": "3.8.10"
  }
 },
 "nbformat": 4,
 "nbformat_minor": 4
}
