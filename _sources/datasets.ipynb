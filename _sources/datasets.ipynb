{
 "cells": [
  {
   "cell_type": "markdown",
   "id": "651a0343",
   "metadata": {},
   "source": [
    "# Datasets\n",
    "During the campaigns several datasets have been collected. The overview below shows the datasets available via the intake catalog for each research flight."
   ]
  },
  {
   "cell_type": "code",
   "execution_count": null,
   "id": "d6debba5",
   "metadata": {
    "tags": [
     "hide_input"
    ]
   },
   "outputs": [],
   "source": [
    "%matplotlib inline\n",
    "import ac3airborne\n",
    "import matplotlib.pyplot as plt\n",
    "import numpy as np\n",
    "plt.style.use(\"mplstyle/book\")\n",
    "\n",
    "# load intake catalog and flight segments\n",
    "cat = ac3airborne.get_intake_catalog()\n",
    "meta = ac3airborne.get_flight_segments()\n",
    "\n",
    "# store data availability in a matrix\n",
    "data_availability = np.zeros(shape=(len(list(cat['Polar5'])),\n",
    "                                    len(list(meta['P5']))))\n",
    "for i, dataset in enumerate(list(cat['Polar5'])):\n",
    "    data_availability[i, :] = np.isin(list(meta['P5']), \n",
    "                                      list(cat['Polar5'][dataset]))\n",
    "\n",
    "# plot data availability\n",
    "fig, ax = plt.subplots(1, 1, figsize=(10, 15), dpi=200,\n",
    "                       constrained_layout=True)\n",
    "\n",
    "ax.pcolormesh(range(data_availability.shape[0]), \n",
    "              range(data_availability.shape[1]), \n",
    "              data_availability.T, \n",
    "              shading='nearest',\n",
    "              vmin=0, \n",
    "              vmax=1, \n",
    "              cmap='RdYlGn', \n",
    "              edgecolors='#eeeeee')\n",
    "\n",
    "ax.set_xticks(range(data_availability.shape[0]))\n",
    "ax.set_yticks(range(data_availability.shape[1]))\n",
    "\n",
    "ax.set_xticklabels(list(list(cat['Polar5'])), rotation=90)\n",
    "ax.set_yticklabels(list(list(meta['P5'])))\n",
    "\n",
    "ax.tick_params(labeltop=True)\n",
    "ax.invert_yaxis()\n",
    "\n",
    "plt.show()"
   ]
  },
  {
   "cell_type": "code",
   "execution_count": null,
   "id": "0fb61c7e",
   "metadata": {},
   "outputs": [],
   "source": []
  }
 ],
 "metadata": {
  "celltoolbar": "Tags",
  "kernelspec": {
   "display_name": "Python 3",
   "language": "python",
   "name": "python3"
  },
  "language_info": {
   "codemirror_mode": {
    "name": "ipython",
    "version": 3
   },
   "file_extension": ".py",
   "mimetype": "text/x-python",
   "name": "python",
   "nbconvert_exporter": "python",
   "pygments_lexer": "ipython3",
   "version": "3.9.4"
  }
 },
 "nbformat": 4,
 "nbformat_minor": 5
}
