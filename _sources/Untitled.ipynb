{
 "cells": [
  {
   "cell_type": "code",
   "execution_count": 1,
   "metadata": {},
   "outputs": [],
   "source": [
    "%matplotlib inline\n",
    "import ac3airborne\n",
    "import matplotlib.pyplot as plt\n",
    "import numpy as np\n",
    "plt.style.use(\"mplstyle/book\")\n",
    "\n",
    "# load intake catalog and flight segments\n",
    "cat = ac3airborne.get_intake_catalog()\n",
    "meta = ac3airborne.get_flight_segments()"
   ]
  },
  {
   "cell_type": "code",
   "execution_count": 2,
   "metadata": {},
   "outputs": [],
   "source": [
    "# store data availability in a matrix\n",
    "data_availability = np.zeros(shape=(len(list(cat['P5'])),\n",
    "                                    len(list(meta['P5']))))"
   ]
  },
  {
   "cell_type": "code",
   "execution_count": 4,
   "metadata": {},
   "outputs": [],
   "source": [
    "for i, dataset in enumerate(list(cat['P5'])):\n",
    "    data_availability[i, :] = np.isin(list(meta['P5']), \n",
    "                                      list(cat['P5'][dataset]))"
   ]
  },
  {
   "cell_type": "code",
   "execution_count": 5,
   "metadata": {},
   "outputs": [
    {
     "data": {
      "text/plain": [
       "['GPS_INS',\n",
       " 'AMSR2_SIC',\n",
       " 'CLOUD_TOP_HEIGHT',\n",
       " 'MIRAC_A',\n",
       " 'MIRAC_P',\n",
       " 'HATPRO',\n",
       " 'NEVZOROV',\n",
       " 'CAS',\n",
       " 'CDP',\n",
       " 'CIP',\n",
       " 'PIP',\n",
       " 'PMS_COMBINED',\n",
       " 'DROPSONDES',\n",
       " 'FISH_EYE_CAMERA',\n",
       " 'BROADBAND_IRRADIANCE']"
      ]
     },
     "execution_count": 5,
     "metadata": {},
     "output_type": "execute_result"
    }
   ],
   "source": [
    "list(cat['P5'])"
   ]
  },
  {
   "cell_type": "code",
   "execution_count": 6,
   "metadata": {},
   "outputs": [
    {
     "data": {
      "text/plain": [
       "['ACLOUD_P5_RF04',\n",
       " 'ACLOUD_P5_RF05',\n",
       " 'ACLOUD_P5_RF06',\n",
       " 'ACLOUD_P5_RF07',\n",
       " 'ACLOUD_P5_RF08',\n",
       " 'ACLOUD_P5_RF10',\n",
       " 'ACLOUD_P5_RF11',\n",
       " 'ACLOUD_P5_RF13',\n",
       " 'ACLOUD_P5_RF14',\n",
       " 'ACLOUD_P5_RF15',\n",
       " 'ACLOUD_P5_RF16',\n",
       " 'ACLOUD_P5_RF17',\n",
       " 'ACLOUD_P5_RF18',\n",
       " 'ACLOUD_P5_RF19',\n",
       " 'ACLOUD_P5_RF20',\n",
       " 'ACLOUD_P5_RF21',\n",
       " 'ACLOUD_P5_RF22',\n",
       " 'ACLOUD_P5_RF23',\n",
       " 'ACLOUD_P5_RF25',\n",
       " 'AFLUX_P5_RF02',\n",
       " 'AFLUX_P5_RF03',\n",
       " 'AFLUX_P5_RF04',\n",
       " 'AFLUX_P5_RF05',\n",
       " 'AFLUX_P5_RF06',\n",
       " 'AFLUX_P5_RF07',\n",
       " 'AFLUX_P5_RF08',\n",
       " 'AFLUX_P5_RF09',\n",
       " 'AFLUX_P5_RF10',\n",
       " 'AFLUX_P5_RF11',\n",
       " 'AFLUX_P5_RF12',\n",
       " 'AFLUX_P5_RF13',\n",
       " 'AFLUX_P5_RF14',\n",
       " 'AFLUX_P5_RF15',\n",
       " 'MOSAiC-ACA_P5_RF02',\n",
       " 'MOSAiC-ACA_P5_RF03',\n",
       " 'MOSAiC-ACA_P5_RF04',\n",
       " 'MOSAiC-ACA_P5_RF05',\n",
       " 'MOSAiC-ACA_P5_RF06',\n",
       " 'MOSAiC-ACA_P5_RF07',\n",
       " 'MOSAiC-ACA_P5_RF08',\n",
       " 'MOSAiC-ACA_P5_RF09',\n",
       " 'MOSAiC-ACA_P5_RF10',\n",
       " 'MOSAiC-ACA_P5_RF11']"
      ]
     },
     "execution_count": 6,
     "metadata": {},
     "output_type": "execute_result"
    }
   ],
   "source": [
    "list(meta['P5'])"
   ]
  },
  {
   "cell_type": "code",
   "execution_count": 9,
   "metadata": {},
   "outputs": [
    {
     "data": {
      "text/plain": [
       "['ACLOUD_P5_RF04',\n",
       " 'ACLOUD_P5_RF05',\n",
       " 'ACLOUD_P5_RF06',\n",
       " 'ACLOUD_P5_RF07',\n",
       " 'ACLOUD_P5_RF08',\n",
       " 'ACLOUD_P5_RF10',\n",
       " 'ACLOUD_P5_RF11',\n",
       " 'ACLOUD_P5_RF15',\n",
       " 'ACLOUD_P5_RF17',\n",
       " 'ACLOUD_P5_RF18',\n",
       " 'ACLOUD_P5_RF19',\n",
       " 'ACLOUD_P5_RF20',\n",
       " 'ACLOUD_P5_RF21',\n",
       " 'ACLOUD_P5_RF22',\n",
       " 'ACLOUD_P5_RF23',\n",
       " 'ACLOUD_P5_RF25',\n",
       " 'AFLUX_P5_RF03',\n",
       " 'AFLUX_P5_RF04',\n",
       " 'AFLUX_P5_RF05',\n",
       " 'AFLUX_P5_RF06',\n",
       " 'AFLUX_P5_RF07',\n",
       " 'AFLUX_P5_RF08',\n",
       " 'AFLUX_P5_RF09',\n",
       " 'AFLUX_P5_RF10',\n",
       " 'AFLUX_P5_RF11',\n",
       " 'AFLUX_P5_RF12',\n",
       " 'AFLUX_P5_RF13',\n",
       " 'AFLUX_P5_RF14',\n",
       " 'AFLUX_P5_RF15',\n",
       " 'MOSAiC-ACA_P5_RF05',\n",
       " 'MOSAiC-ACA_P5_RF06',\n",
       " 'MOSAiC-ACA_P5_RF07',\n",
       " 'MOSAiC-ACA_P5_RF08',\n",
       " 'MOSAiC-ACA_P5_RF09',\n",
       " 'MOSAiC-ACA_P5_RF10',\n",
       " 'MOSAiC-ACA_P5_RF11']"
      ]
     },
     "execution_count": 9,
     "metadata": {},
     "output_type": "execute_result"
    }
   ],
   "source": [
    "list(cat['P5']['MIRAC_A'])"
   ]
  },
  {
   "cell_type": "code",
   "execution_count": null,
   "metadata": {},
   "outputs": [],
   "source": []
  }
 ],
 "metadata": {
  "kernelspec": {
   "display_name": "Python 3",
   "language": "python",
   "name": "python3"
  },
  "language_info": {
   "codemirror_mode": {
    "name": "ipython",
    "version": 3
   },
   "file_extension": ".py",
   "mimetype": "text/x-python",
   "name": "python",
   "nbconvert_exporter": "python",
   "pygments_lexer": "ipython3",
   "version": "3.8.10"
  }
 },
 "nbformat": 4,
 "nbformat_minor": 4
}
