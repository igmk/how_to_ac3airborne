{
 "cells": [
  {
   "cell_type": "markdown",
   "id": "placed-nurse",
   "metadata": {
    "tags": []
   },
   "source": [
    "# Querying the *flight phase files*\n",
    "We introduce here some new methods to select the flight segments, querying for different criteria.\n",
    "\n",
    "## Data access\n",
    "* To analyse the data they first have to be loaded by importing the (AC)³airborne meta data catalogue. To do so the ac3airborne package has to be installed. More information on how to do that and about the catalog can be found [here](https://github.com/igmk/ac3airborne-intake#ac3airborne-intake-catalogue)."
   ]
  },
  {
   "cell_type": "markdown",
   "id": "9a5db64c-170e-461d-8a7d-e0f12c411961",
   "metadata": {},
   "source": [
    "## Get data"
   ]
  },
  {
   "cell_type": "code",
   "execution_count": 1,
   "id": "e89b22e5",
   "metadata": {},
   "outputs": [],
   "source": [
    "import ac3airborne"
   ]
  },
  {
   "cell_type": "code",
   "execution_count": 2,
   "id": "de8e280d",
   "metadata": {},
   "outputs": [
    {
     "data": {
      "text/plain": [
       "['ACLOUD_P5_RF04',\n",
       " 'ACLOUD_P5_RF05',\n",
       " 'ACLOUD_P5_RF06',\n",
       " 'ACLOUD_P5_RF07',\n",
       " 'ACLOUD_P5_RF08',\n",
       " 'ACLOUD_P5_RF10',\n",
       " 'ACLOUD_P5_RF11',\n",
       " 'ACLOUD_P5_RF13',\n",
       " 'ACLOUD_P5_RF14',\n",
       " 'ACLOUD_P5_RF15',\n",
       " 'ACLOUD_P5_RF16',\n",
       " 'ACLOUD_P5_RF17',\n",
       " 'ACLOUD_P5_RF18',\n",
       " 'ACLOUD_P5_RF19',\n",
       " 'ACLOUD_P5_RF20',\n",
       " 'ACLOUD_P5_RF21',\n",
       " 'ACLOUD_P5_RF22',\n",
       " 'ACLOUD_P5_RF23',\n",
       " 'ACLOUD_P5_RF25',\n",
       " 'AFLUX_P5_RF02',\n",
       " 'AFLUX_P5_RF03',\n",
       " 'AFLUX_P5_RF04',\n",
       " 'AFLUX_P5_RF05',\n",
       " 'AFLUX_P5_RF06',\n",
       " 'AFLUX_P5_RF07',\n",
       " 'AFLUX_P5_RF08',\n",
       " 'AFLUX_P5_RF09',\n",
       " 'AFLUX_P5_RF10',\n",
       " 'AFLUX_P5_RF11',\n",
       " 'AFLUX_P5_RF12',\n",
       " 'AFLUX_P5_RF13',\n",
       " 'AFLUX_P5_RF14',\n",
       " 'AFLUX_P5_RF15',\n",
       " 'MOSAiC-ACA_P5_RF02',\n",
       " 'MOSAiC-ACA_P5_RF03',\n",
       " 'MOSAiC-ACA_P5_RF04',\n",
       " 'MOSAiC-ACA_P5_RF05',\n",
       " 'MOSAiC-ACA_P5_RF06',\n",
       " 'MOSAiC-ACA_P5_RF07',\n",
       " 'MOSAiC-ACA_P5_RF08',\n",
       " 'MOSAiC-ACA_P5_RF09',\n",
       " 'MOSAiC-ACA_P5_RF10',\n",
       " 'MOSAiC-ACA_P5_RF11',\n",
       " 'ACLOUD_P6_RF07',\n",
       " 'ACLOUD_P6_RF08',\n",
       " 'ACLOUD_P6_RF09',\n",
       " 'ACLOUD_P6_RF10',\n",
       " 'ACLOUD_P6_RF11',\n",
       " 'ACLOUD_P6_RF12',\n",
       " 'ACLOUD_P6_RF13',\n",
       " 'ACLOUD_P6_RF14',\n",
       " 'ACLOUD_P6_RF15',\n",
       " 'ACLOUD_P6_RF16',\n",
       " 'ACLOUD_P6_RF17',\n",
       " 'ACLOUD_P6_RF18',\n",
       " 'ACLOUD_P6_RF19',\n",
       " 'ACLOUD_P6_RF20',\n",
       " 'ACLOUD_P6_RF21',\n",
       " 'ACLOUD_P6_RF22',\n",
       " 'ACLOUD_P6_RF23',\n",
       " 'ACLOUD_P6_RF24',\n",
       " 'ACLOUD_P6_RF25',\n",
       " 'PAMARCMiP_P6_RF03',\n",
       " 'PAMARCMiP_P6_RF04',\n",
       " 'PAMARCMiP_P6_RF05',\n",
       " 'PAMARCMiP_P6_RF06',\n",
       " 'PAMARCMiP_P6_RF07',\n",
       " 'PAMARCMiP_P6_RF08',\n",
       " 'PAMARCMiP_P6_RF09',\n",
       " 'PAMARCMiP_P6_RF10',\n",
       " 'PAMARCMiP_P6_RF11',\n",
       " 'PAMARCMiP_P6_RF12',\n",
       " 'PAMARCMiP_P6_RF13',\n",
       " 'PAMARCMiP_P6_RF14',\n",
       " 'PAMARCMiP_P6_RF15',\n",
       " 'PAMARCMiP_P6_RF16']"
      ]
     },
     "execution_count": 2,
     "metadata": {},
     "output_type": "execute_result"
    }
   ],
   "source": [
    "cat = ac3airborne.get_intake_catalog()\n",
    "\n",
    "datasets = []\n",
    "for campaign in ['ACLOUD', 'AFLUX', 'MOSAiC-ACA']:\n",
    "    datasets.extend(list(cat[campaign]['P5']['GPS_INS']))\n",
    "for campaign in ['ACLOUD', 'PAMARCMiP']:\n",
    "    datasets.extend(list(cat[campaign]['P6']['GPS_INS']))\n",
    "datasets"
   ]
  },
  {
   "cell_type": "markdown",
   "id": "748b2906",
   "metadata": {},
   "source": [
    "```{note}\n",
    "Have a look at the attributes of the xarray dataset `ds_gps` for all relevant information on the dataset, such as author, contact, or citation information.\n",
    "```"
   ]
  },
  {
   "cell_type": "markdown",
   "id": "080656e9",
   "metadata": {},
   "source": [
    "In this example we want to look at `ACLOUD_P5_RF14`. First we read the GPS information:"
   ]
  },
  {
   "cell_type": "code",
   "execution_count": 3,
   "id": "f07e799c",
   "metadata": {},
   "outputs": [
    {
     "ename": "ValueError",
     "evalue": "found the following matches with the input file in xarray's IO backends: ['h5netcdf']. But their dependencies may not be installed, see:\nhttp://xarray.pydata.org/en/stable/user-guide/io.html \nhttp://xarray.pydata.org/en/stable/getting-started-guide/installing.html",
     "output_type": "error",
     "traceback": [
      "\u001b[0;31m---------------------------------------------------------------------------\u001b[0m",
      "\u001b[0;31mValueError\u001b[0m                                Traceback (most recent call last)",
      "\u001b[0;32m/tmp/ipykernel_143192/745633156.py\u001b[0m in \u001b[0;36m<module>\u001b[0;34m\u001b[0m\n\u001b[0;32m----> 1\u001b[0;31m \u001b[0mds_gps\u001b[0m \u001b[0;34m=\u001b[0m \u001b[0mcat\u001b[0m\u001b[0;34m[\u001b[0m\u001b[0;34m'ACLOUD'\u001b[0m\u001b[0;34m]\u001b[0m\u001b[0;34m[\u001b[0m\u001b[0;34m'P5'\u001b[0m\u001b[0;34m]\u001b[0m\u001b[0;34m[\u001b[0m\u001b[0;34m'GPS_INS'\u001b[0m\u001b[0;34m]\u001b[0m\u001b[0;34m[\u001b[0m\u001b[0;34m'ACLOUD_P5_RF14'\u001b[0m\u001b[0;34m]\u001b[0m\u001b[0;34m.\u001b[0m\u001b[0mto_dask\u001b[0m\u001b[0;34m(\u001b[0m\u001b[0;34m)\u001b[0m\u001b[0;34m\u001b[0m\u001b[0;34m\u001b[0m\u001b[0m\n\u001b[0m\u001b[1;32m      2\u001b[0m \u001b[0mds_gps\u001b[0m\u001b[0;34m\u001b[0m\u001b[0;34m\u001b[0m\u001b[0m\n",
      "\u001b[0;32m~/anaconda3/envs/ac3airborne/lib/python3.9/site-packages/intake_xarray/base.py\u001b[0m in \u001b[0;36mto_dask\u001b[0;34m(self)\u001b[0m\n\u001b[1;32m     67\u001b[0m     \u001b[0;32mdef\u001b[0m \u001b[0mto_dask\u001b[0m\u001b[0;34m(\u001b[0m\u001b[0mself\u001b[0m\u001b[0;34m)\u001b[0m\u001b[0;34m:\u001b[0m\u001b[0;34m\u001b[0m\u001b[0;34m\u001b[0m\u001b[0m\n\u001b[1;32m     68\u001b[0m         \u001b[0;34m\"\"\"Return xarray object where variables are dask arrays\"\"\"\u001b[0m\u001b[0;34m\u001b[0m\u001b[0;34m\u001b[0m\u001b[0m\n\u001b[0;32m---> 69\u001b[0;31m         \u001b[0;32mreturn\u001b[0m \u001b[0mself\u001b[0m\u001b[0;34m.\u001b[0m\u001b[0mread_chunked\u001b[0m\u001b[0;34m(\u001b[0m\u001b[0;34m)\u001b[0m\u001b[0;34m\u001b[0m\u001b[0;34m\u001b[0m\u001b[0m\n\u001b[0m\u001b[1;32m     70\u001b[0m \u001b[0;34m\u001b[0m\u001b[0m\n\u001b[1;32m     71\u001b[0m     \u001b[0;32mdef\u001b[0m \u001b[0mclose\u001b[0m\u001b[0;34m(\u001b[0m\u001b[0mself\u001b[0m\u001b[0;34m)\u001b[0m\u001b[0;34m:\u001b[0m\u001b[0;34m\u001b[0m\u001b[0;34m\u001b[0m\u001b[0m\n",
      "\u001b[0;32m~/anaconda3/envs/ac3airborne/lib/python3.9/site-packages/intake_xarray/base.py\u001b[0m in \u001b[0;36mread_chunked\u001b[0;34m(self)\u001b[0m\n\u001b[1;32m     42\u001b[0m     \u001b[0;32mdef\u001b[0m \u001b[0mread_chunked\u001b[0m\u001b[0;34m(\u001b[0m\u001b[0mself\u001b[0m\u001b[0;34m)\u001b[0m\u001b[0;34m:\u001b[0m\u001b[0;34m\u001b[0m\u001b[0;34m\u001b[0m\u001b[0m\n\u001b[1;32m     43\u001b[0m         \u001b[0;34m\"\"\"Return xarray object (which will have chunks)\"\"\"\u001b[0m\u001b[0;34m\u001b[0m\u001b[0;34m\u001b[0m\u001b[0m\n\u001b[0;32m---> 44\u001b[0;31m         \u001b[0mself\u001b[0m\u001b[0;34m.\u001b[0m\u001b[0m_load_metadata\u001b[0m\u001b[0;34m(\u001b[0m\u001b[0;34m)\u001b[0m\u001b[0;34m\u001b[0m\u001b[0;34m\u001b[0m\u001b[0m\n\u001b[0m\u001b[1;32m     45\u001b[0m         \u001b[0;32mreturn\u001b[0m \u001b[0mself\u001b[0m\u001b[0;34m.\u001b[0m\u001b[0m_ds\u001b[0m\u001b[0;34m\u001b[0m\u001b[0;34m\u001b[0m\u001b[0m\n\u001b[1;32m     46\u001b[0m \u001b[0;34m\u001b[0m\u001b[0m\n",
      "\u001b[0;32m~/anaconda3/envs/ac3airborne/lib/python3.9/site-packages/intake/source/base.py\u001b[0m in \u001b[0;36m_load_metadata\u001b[0;34m(self)\u001b[0m\n\u001b[1;32m    234\u001b[0m         \u001b[0;34m\"\"\"load metadata only if needed\"\"\"\u001b[0m\u001b[0;34m\u001b[0m\u001b[0;34m\u001b[0m\u001b[0m\n\u001b[1;32m    235\u001b[0m         \u001b[0;32mif\u001b[0m \u001b[0mself\u001b[0m\u001b[0;34m.\u001b[0m\u001b[0m_schema\u001b[0m \u001b[0;32mis\u001b[0m \u001b[0;32mNone\u001b[0m\u001b[0;34m:\u001b[0m\u001b[0;34m\u001b[0m\u001b[0;34m\u001b[0m\u001b[0m\n\u001b[0;32m--> 236\u001b[0;31m             \u001b[0mself\u001b[0m\u001b[0;34m.\u001b[0m\u001b[0m_schema\u001b[0m \u001b[0;34m=\u001b[0m \u001b[0mself\u001b[0m\u001b[0;34m.\u001b[0m\u001b[0m_get_schema\u001b[0m\u001b[0;34m(\u001b[0m\u001b[0;34m)\u001b[0m\u001b[0;34m\u001b[0m\u001b[0;34m\u001b[0m\u001b[0m\n\u001b[0m\u001b[1;32m    237\u001b[0m             \u001b[0mself\u001b[0m\u001b[0;34m.\u001b[0m\u001b[0mdtype\u001b[0m \u001b[0;34m=\u001b[0m \u001b[0mself\u001b[0m\u001b[0;34m.\u001b[0m\u001b[0m_schema\u001b[0m\u001b[0;34m.\u001b[0m\u001b[0mdtype\u001b[0m\u001b[0;34m\u001b[0m\u001b[0;34m\u001b[0m\u001b[0m\n\u001b[1;32m    238\u001b[0m             \u001b[0mself\u001b[0m\u001b[0;34m.\u001b[0m\u001b[0mshape\u001b[0m \u001b[0;34m=\u001b[0m \u001b[0mself\u001b[0m\u001b[0;34m.\u001b[0m\u001b[0m_schema\u001b[0m\u001b[0;34m.\u001b[0m\u001b[0mshape\u001b[0m\u001b[0;34m\u001b[0m\u001b[0;34m\u001b[0m\u001b[0m\n",
      "\u001b[0;32m~/anaconda3/envs/ac3airborne/lib/python3.9/site-packages/intake_xarray/base.py\u001b[0m in \u001b[0;36m_get_schema\u001b[0;34m(self)\u001b[0m\n\u001b[1;32m     16\u001b[0m \u001b[0;34m\u001b[0m\u001b[0m\n\u001b[1;32m     17\u001b[0m         \u001b[0;32mif\u001b[0m \u001b[0mself\u001b[0m\u001b[0;34m.\u001b[0m\u001b[0m_ds\u001b[0m \u001b[0;32mis\u001b[0m \u001b[0;32mNone\u001b[0m\u001b[0;34m:\u001b[0m\u001b[0;34m\u001b[0m\u001b[0;34m\u001b[0m\u001b[0m\n\u001b[0;32m---> 18\u001b[0;31m             \u001b[0mself\u001b[0m\u001b[0;34m.\u001b[0m\u001b[0m_open_dataset\u001b[0m\u001b[0;34m(\u001b[0m\u001b[0;34m)\u001b[0m\u001b[0;34m\u001b[0m\u001b[0;34m\u001b[0m\u001b[0m\n\u001b[0m\u001b[1;32m     19\u001b[0m \u001b[0;34m\u001b[0m\u001b[0m\n\u001b[1;32m     20\u001b[0m             metadata = {\n",
      "\u001b[0;32m~/anaconda3/envs/ac3airborne/lib/python3.9/site-packages/intake_xarray/netcdf.py\u001b[0m in \u001b[0;36m_open_dataset\u001b[0;34m(self)\u001b[0m\n\u001b[1;32m     90\u001b[0m             \u001b[0murl\u001b[0m \u001b[0;34m=\u001b[0m \u001b[0mfsspec\u001b[0m\u001b[0;34m.\u001b[0m\u001b[0mopen\u001b[0m\u001b[0;34m(\u001b[0m\u001b[0mself\u001b[0m\u001b[0;34m.\u001b[0m\u001b[0murlpath\u001b[0m\u001b[0;34m,\u001b[0m \u001b[0;34m**\u001b[0m\u001b[0mself\u001b[0m\u001b[0;34m.\u001b[0m\u001b[0mstorage_options\u001b[0m\u001b[0;34m)\u001b[0m\u001b[0;34m.\u001b[0m\u001b[0mopen\u001b[0m\u001b[0;34m(\u001b[0m\u001b[0;34m)\u001b[0m\u001b[0;34m\u001b[0m\u001b[0;34m\u001b[0m\u001b[0m\n\u001b[1;32m     91\u001b[0m \u001b[0;34m\u001b[0m\u001b[0m\n\u001b[0;32m---> 92\u001b[0;31m         \u001b[0mself\u001b[0m\u001b[0;34m.\u001b[0m\u001b[0m_ds\u001b[0m \u001b[0;34m=\u001b[0m \u001b[0m_open_dataset\u001b[0m\u001b[0;34m(\u001b[0m\u001b[0murl\u001b[0m\u001b[0;34m,\u001b[0m \u001b[0mchunks\u001b[0m\u001b[0;34m=\u001b[0m\u001b[0mself\u001b[0m\u001b[0;34m.\u001b[0m\u001b[0mchunks\u001b[0m\u001b[0;34m,\u001b[0m \u001b[0;34m**\u001b[0m\u001b[0mkwargs\u001b[0m\u001b[0;34m)\u001b[0m\u001b[0;34m\u001b[0m\u001b[0;34m\u001b[0m\u001b[0m\n\u001b[0m\u001b[1;32m     93\u001b[0m \u001b[0;34m\u001b[0m\u001b[0m\n\u001b[1;32m     94\u001b[0m     \u001b[0;32mdef\u001b[0m \u001b[0m_add_path_to_ds\u001b[0m\u001b[0;34m(\u001b[0m\u001b[0mself\u001b[0m\u001b[0;34m,\u001b[0m \u001b[0mds\u001b[0m\u001b[0;34m)\u001b[0m\u001b[0;34m:\u001b[0m\u001b[0;34m\u001b[0m\u001b[0;34m\u001b[0m\u001b[0m\n",
      "\u001b[0;32m~/anaconda3/envs/ac3airborne/lib/python3.9/site-packages/xarray/backends/api.py\u001b[0m in \u001b[0;36mopen_dataset\u001b[0;34m(filename_or_obj, engine, chunks, cache, decode_cf, mask_and_scale, decode_times, decode_timedelta, use_cftime, concat_characters, decode_coords, drop_variables, backend_kwargs, *args, **kwargs)\u001b[0m\n\u001b[1;32m    477\u001b[0m \u001b[0;34m\u001b[0m\u001b[0m\n\u001b[1;32m    478\u001b[0m     \u001b[0;32mif\u001b[0m \u001b[0mengine\u001b[0m \u001b[0;32mis\u001b[0m \u001b[0;32mNone\u001b[0m\u001b[0;34m:\u001b[0m\u001b[0;34m\u001b[0m\u001b[0;34m\u001b[0m\u001b[0m\n\u001b[0;32m--> 479\u001b[0;31m         \u001b[0mengine\u001b[0m \u001b[0;34m=\u001b[0m \u001b[0mplugins\u001b[0m\u001b[0;34m.\u001b[0m\u001b[0mguess_engine\u001b[0m\u001b[0;34m(\u001b[0m\u001b[0mfilename_or_obj\u001b[0m\u001b[0;34m)\u001b[0m\u001b[0;34m\u001b[0m\u001b[0;34m\u001b[0m\u001b[0m\n\u001b[0m\u001b[1;32m    480\u001b[0m \u001b[0;34m\u001b[0m\u001b[0m\n\u001b[1;32m    481\u001b[0m     \u001b[0mbackend\u001b[0m \u001b[0;34m=\u001b[0m \u001b[0mplugins\u001b[0m\u001b[0;34m.\u001b[0m\u001b[0mget_backend\u001b[0m\u001b[0;34m(\u001b[0m\u001b[0mengine\u001b[0m\u001b[0;34m)\u001b[0m\u001b[0;34m\u001b[0m\u001b[0;34m\u001b[0m\u001b[0m\n",
      "\u001b[0;32m~/anaconda3/envs/ac3airborne/lib/python3.9/site-packages/xarray/backends/plugins.py\u001b[0m in \u001b[0;36mguess_engine\u001b[0;34m(store_spec)\u001b[0m\n\u001b[1;32m    153\u001b[0m         )\n\u001b[1;32m    154\u001b[0m \u001b[0;34m\u001b[0m\u001b[0m\n\u001b[0;32m--> 155\u001b[0;31m     \u001b[0;32mraise\u001b[0m \u001b[0mValueError\u001b[0m\u001b[0;34m(\u001b[0m\u001b[0merror_msg\u001b[0m\u001b[0;34m)\u001b[0m\u001b[0;34m\u001b[0m\u001b[0;34m\u001b[0m\u001b[0m\n\u001b[0m\u001b[1;32m    156\u001b[0m \u001b[0;34m\u001b[0m\u001b[0m\n\u001b[1;32m    157\u001b[0m \u001b[0;34m\u001b[0m\u001b[0m\n",
      "\u001b[0;31mValueError\u001b[0m: found the following matches with the input file in xarray's IO backends: ['h5netcdf']. But their dependencies may not be installed, see:\nhttp://xarray.pydata.org/en/stable/user-guide/io.html \nhttp://xarray.pydata.org/en/stable/getting-started-guide/installing.html"
     ]
    }
   ],
   "source": [
    "ds_gps = cat['ACLOUD']['P5']['GPS_INS']['ACLOUD_P5_RF14'].to_dask()\n",
    "ds_gps"
   ]
  },
  {
   "cell_type": "markdown",
   "id": "vocational-superintendent",
   "metadata": {},
   "source": [
    "## Load Polar 5 flight phase information\n",
    "Polar 5 flights are divided into segments to easily access start and end times of flight patterns. For more information have a look at the respective [github](https://github.com/igmk/flight-phase-separation) repository.\n",
    "\n",
    "At first we want to load the flight segments of (AC)³airborne"
   ]
  },
  {
   "cell_type": "code",
   "execution_count": 4,
   "id": "17c3ceb6",
   "metadata": {},
   "outputs": [],
   "source": [
    "meta = ac3airborne.get_flight_segments() "
   ]
  },
  {
   "cell_type": "markdown",
   "id": "cc590398-5204-4811-a784-6e2eca3cdc15",
   "metadata": {},
   "source": [
    "In order to simplify things we can import the module `flightphase` from the `ac3airborne.tools`."
   ]
  },
  {
   "cell_type": "code",
   "execution_count": 5,
   "id": "4219c947-2673-4171-bf4f-792c6ef147d2",
   "metadata": {},
   "outputs": [
    {
     "ename": "IndentationError",
     "evalue": "unindent does not match any outer indentation level (flightphase.py, line 133)",
     "output_type": "error",
     "traceback": [
      "Traceback \u001b[0;36m(most recent call last)\u001b[0m:\n",
      "  File \u001b[1;32m\"/home/nrisse/anaconda3/envs/ac3airborne/lib/python3.9/site-packages/IPython/core/interactiveshell.py\"\u001b[0m, line \u001b[1;32m3444\u001b[0m, in \u001b[1;35mrun_code\u001b[0m\n    exec(code_obj, self.user_global_ns, self.user_ns)\n",
      "\u001b[0;36m  File \u001b[0;32m\"/tmp/ipykernel_143192/3275007511.py\"\u001b[0;36m, line \u001b[0;32m1\u001b[0;36m, in \u001b[0;35m<module>\u001b[0;36m\u001b[0m\n\u001b[0;31m    from ac3airborne.tools import flightphase\u001b[0m\n",
      "\u001b[0;36m  File \u001b[0;32m\"/home/nrisse/anaconda3/envs/ac3airborne/lib/python3.9/site-packages/ac3airborne/tools/flightphase.py\"\u001b[0;36m, line \u001b[0;32m133\u001b[0m\n\u001b[0;31m    def selectDropSondes(self, type):\u001b[0m\n\u001b[0m                                     ^\u001b[0m\n\u001b[0;31mIndentationError\u001b[0m\u001b[0;31m:\u001b[0m unindent does not match any outer indentation level\n"
     ]
    }
   ],
   "source": [
    "from ac3airborne.tools import flightphase"
   ]
  },
  {
   "cell_type": "markdown",
   "id": "c0abad78",
   "metadata": {},
   "source": [
    "The next step is to select the flight segments of our flight:"
   ]
  },
  {
   "cell_type": "code",
   "execution_count": null,
   "id": "olympic-booking",
   "metadata": {},
   "outputs": [],
   "source": [
    "flight = meta['ACLOUD']['P5']['ACLOUD_P5_RF14']"
   ]
  },
  {
   "cell_type": "code",
   "execution_count": null,
   "id": "preliminary-tamil",
   "metadata": {},
   "outputs": [],
   "source": [
    "flight_query = flightphase.FlightPhaseFile(flight)"
   ]
  },
  {
   "cell_type": "markdown",
   "id": "given-bangladesh",
   "metadata": {},
   "source": [
    "## Plots\n",
    "First, the entire flight is plotted:"
   ]
  },
  {
   "cell_type": "code",
   "execution_count": null,
   "id": "8a8b5c89-880a-4176-9d34-027d1aed7603",
   "metadata": {},
   "outputs": [],
   "source": [
    "import warnings\n",
    "warnings.filterwarnings('ignore')\n",
    "\n",
    "import matplotlib.pyplot as plt\n",
    "import cartopy.crs as ccrs\n",
    "import cartopy.feature as cfeature\n",
    "plt.style.use(\"../mplstyle/book\")"
   ]
  },
  {
   "cell_type": "code",
   "execution_count": null,
   "id": "separated-beatles",
   "metadata": {},
   "outputs": [],
   "source": [
    "proj = ccrs.NorthPolarStereo()\n",
    "extent = (-5.0, 24.0, 78.0, 83.0)\n",
    "\n",
    "fig = plt.figure(figsize=(8, 8))\n",
    "ax = plt.axes(projection=proj)\n",
    "ax.set_extent(extent)\n",
    "\n",
    "ax.add_feature(cfeature.OCEAN)\n",
    "ax.add_feature(cfeature.LAND)\n",
    "ax.gridlines()\n",
    "ax.coastlines()\n",
    "\n",
    "nya_lat = 78.924444\n",
    "nya_lon = 11.928611\n",
    "\n",
    "ax.plot(nya_lon, nya_lat, 'ro', transform=ccrs.PlateCarree())\n",
    "ax.text(nya_lon, nya_lat+0.05, 'Ny-Ålesund', transform=ccrs.PlateCarree())\n",
    "\n",
    "line_all = ax.plot(ds_gps.lon, ds_gps.lat, transform=ccrs.PlateCarree())\n",
    "\n",
    "plt.show()"
   ]
  },
  {
   "cell_type": "markdown",
   "id": "local-anger",
   "metadata": {},
   "source": [
    "### Query all segments of a specific kind"
   ]
  },
  {
   "cell_type": "markdown",
   "id": "informative-assignment",
   "metadata": {},
   "source": [
    "As an example only `high_level` flights are plotted in the following (only one kind of pattern):"
   ]
  },
  {
   "cell_type": "code",
   "execution_count": null,
   "id": "running-european",
   "metadata": {},
   "outputs": [],
   "source": [
    "queried = flight_query.selectKind(['high_level'])\n",
    "queried"
   ]
  },
  {
   "cell_type": "markdown",
   "id": "spatial-pilot",
   "metadata": {},
   "source": [
    "Plot the selected segments:"
   ]
  },
  {
   "cell_type": "code",
   "execution_count": null,
   "id": "beautiful-renaissance",
   "metadata": {},
   "outputs": [],
   "source": [
    "ll = line_all.pop(0)\n",
    "ll.remove()\n",
    "\n",
    "lines = []\n",
    "for q in queried:\n",
    "    start = q['start']\n",
    "    end   = q['end']\n",
    "    \n",
    "    line = ax.plot(ds_gps.lon.sel(time=slice(start, end)),\n",
    "                   ds_gps.lat.sel(time=slice(start, end)),\n",
    "                   transform=ccrs.PlateCarree())\n",
    "    lines.append(line)\n",
    "    \n",
    "fig"
   ]
  },
  {
   "cell_type": "markdown",
   "id": "weekly-dream",
   "metadata": {},
   "source": [
    " Of course, also more than one kind of pattern can be selected:"
   ]
  },
  {
   "cell_type": "code",
   "execution_count": null,
   "id": "saved-period",
   "metadata": {},
   "outputs": [],
   "source": [
    "kinds = ['a-train_underflight', 'nya_overflight', 'polarstern_overflight']\n",
    "\n",
    "queried = flight_query.selectKind(kinds)\n",
    "queried"
   ]
  },
  {
   "cell_type": "markdown",
   "id": "ready-teddy",
   "metadata": {},
   "source": [
    "Plot the selected segments:"
   ]
  },
  {
   "cell_type": "code",
   "execution_count": null,
   "id": "brave-norfolk",
   "metadata": {},
   "outputs": [],
   "source": [
    "for l in lines:\n",
    "    ll = l.pop(0)\n",
    "    ll.remove()\n",
    "    \n",
    "lines = []\n",
    "for q in queried:\n",
    "    start = q['start']\n",
    "    end   = q['end']\n",
    "    \n",
    "    line = ax.plot(ds_gps.lon.sel(time=slice(start, end)),\n",
    "                   ds_gps.lat.sel(time=slice(start, end)),\n",
    "                   transform=ccrs.PlateCarree())\n",
    "    lines.append(line)\n",
    "    \n",
    "fig"
   ]
  },
  {
   "cell_type": "markdown",
   "id": "forward-equivalent",
   "metadata": {},
   "source": [
    "### Sorting out all segments given a list of kinds"
   ]
  },
  {
   "cell_type": "code",
   "execution_count": null,
   "id": "smart-kelly",
   "metadata": {},
   "outputs": [],
   "source": [
    "sort_out = ['short_turn', 'holding_pattern', 'major_ascent', 'major_descent', 'high_level']\n",
    "\n",
    "queried = flight_query.selectKind(sort_out, invertSelection=True)\n",
    "queried"
   ]
  },
  {
   "cell_type": "markdown",
   "id": "fitted-welsh",
   "metadata": {},
   "source": [
    "Plot the selected segments:"
   ]
  },
  {
   "cell_type": "code",
   "execution_count": null,
   "id": "entertaining-institute",
   "metadata": {},
   "outputs": [],
   "source": [
    "for l in lines:\n",
    "    ll = l.pop(0)\n",
    "    ll.remove()\n",
    "    \n",
    "lines = []\n",
    "for q in queried:\n",
    "    start = q['start']\n",
    "    end   = q['end']\n",
    "    \n",
    "    line = ax.plot(ds_gps.lon.sel(time=slice(start, end)),\n",
    "                   ds_gps.lat.sel(time=slice(start, end)),\n",
    "                   transform=ccrs.PlateCarree())\n",
    "    lines.append(line)\n",
    "    \n",
    "fig"
   ]
  },
  {
   "cell_type": "markdown",
   "id": "olympic-dallas",
   "metadata": {},
   "source": [
    "### Query a segment with a specific value in a specific attribute"
   ]
  },
  {
   "cell_type": "markdown",
   "id": "functioning-olympus",
   "metadata": {},
   "source": [
    "#### Example 1: Select element with specific name"
   ]
  },
  {
   "cell_type": "code",
   "execution_count": null,
   "id": "acute-encoding",
   "metadata": {},
   "outputs": [],
   "source": [
    "attribute = 'name'\n",
    "value = 'racetrack pattern 1'\n",
    "\n",
    "queried = flight_query.select(attribute, value) \n",
    "queried"
   ]
  },
  {
   "cell_type": "markdown",
   "id": "modular-desperate",
   "metadata": {},
   "source": [
    "Plot the selected elements:"
   ]
  },
  {
   "cell_type": "code",
   "execution_count": null,
   "id": "requested-greeting",
   "metadata": {},
   "outputs": [],
   "source": [
    "for l in lines:\n",
    "    ll = l.pop(0)\n",
    "    ll.remove()\n",
    "    \n",
    "lines = []\n",
    "for q in queried:\n",
    "    start = q['start']\n",
    "    end   = q['end']\n",
    "    \n",
    "    line = ax.plot(ds_gps.lon.sel(time=slice(start, end)),\n",
    "                   ds_gps.lat.sel(time=slice(start, end)),\n",
    "                   transform=ccrs.PlateCarree())\n",
    "    lines.append(line)\n",
    "    \n",
    "fig"
   ]
  },
  {
   "cell_type": "markdown",
   "id": "wrong-cassette",
   "metadata": {},
   "source": [
    "Also with inverted selection:"
   ]
  },
  {
   "cell_type": "code",
   "execution_count": null,
   "id": "likely-manhattan",
   "metadata": {},
   "outputs": [],
   "source": [
    "queried = flight_query.select(attribute, value, invertSelection=True) \n",
    "queried"
   ]
  },
  {
   "cell_type": "markdown",
   "id": "accomplished-civilian",
   "metadata": {},
   "source": [
    "Plot the selected elements:"
   ]
  },
  {
   "cell_type": "code",
   "execution_count": null,
   "id": "running-holmes",
   "metadata": {},
   "outputs": [],
   "source": [
    "for l in lines:\n",
    "    ll = l.pop(0)\n",
    "    ll.remove()\n",
    "    \n",
    "lines = []\n",
    "for q in queried:\n",
    "    start = q['start']\n",
    "    end   = q['end']\n",
    "    \n",
    "    line = ax.plot(ds_gps.lon.sel(time=slice(start, end)),\n",
    "                   ds_gps.lat.sel(time=slice(start, end)),\n",
    "                   transform=ccrs.PlateCarree())\n",
    "    lines.append(line)\n",
    "    \n",
    "fig"
   ]
  },
  {
   "cell_type": "markdown",
   "id": "monthly-south",
   "metadata": {},
   "source": [
    "#### Example 2: Specific level"
   ]
  },
  {
   "cell_type": "code",
   "execution_count": null,
   "id": "light-abortion",
   "metadata": {},
   "outputs": [],
   "source": [
    "attribute = 'levels'\n",
    "value = 9800\n",
    "\n",
    "queried = flight_query.select(attribute, value)\n",
    "queried"
   ]
  },
  {
   "cell_type": "markdown",
   "id": "involved-senegal",
   "metadata": {},
   "source": [
    "Plot the selected elements:"
   ]
  },
  {
   "cell_type": "code",
   "execution_count": null,
   "id": "nearby-enclosure",
   "metadata": {},
   "outputs": [],
   "source": [
    "for l in lines:\n",
    "    ll = l.pop(0)\n",
    "    ll.remove()\n",
    "    \n",
    "lines = []\n",
    "for q in queried:\n",
    "    start = q['start']\n",
    "    end   = q['end']\n",
    "    \n",
    "    line = ax.plot(ds_gps.lon.sel(time=slice(start, end)),\n",
    "                   ds_gps.lat.sel(time=slice(start, end)),\n",
    "                   transform=ccrs.PlateCarree())\n",
    "    lines.append(line)\n",
    "    \n",
    "fig"
   ]
  },
  {
   "cell_type": "markdown",
   "id": "above-hundred",
   "metadata": {},
   "source": [
    "But what if we want only a specific level without ascent and descent? We can require that the attribute value is strictly equal to the one, that we give, i.e. there are no other values:"
   ]
  },
  {
   "cell_type": "code",
   "execution_count": null,
   "id": "plastic-proof",
   "metadata": {},
   "outputs": [],
   "source": [
    "queried = flight_query.select(attribute, value, strict=True)\n",
    "queried"
   ]
  },
  {
   "cell_type": "markdown",
   "id": "aboriginal-chaos",
   "metadata": {},
   "source": [
    "This functions only if the attribute has more values, as for level or kind. Now plot the selected elements:"
   ]
  },
  {
   "cell_type": "code",
   "execution_count": null,
   "id": "controlled-potato",
   "metadata": {},
   "outputs": [],
   "source": [
    "for l in lines:\n",
    "    ll = l.pop(0)\n",
    "    ll.remove()\n",
    "    \n",
    "lines = []\n",
    "for q in queried:\n",
    "    start = q['start']\n",
    "    end   = q['end']\n",
    "    \n",
    "    line = ax.plot(ds_gps.lon.sel(time=slice(start, end)),\n",
    "                   ds_gps.lat.sel(time=slice(start, end)),\n",
    "                   transform=ccrs.PlateCarree())\n",
    "    lines.append(line)\n",
    "    \n",
    "fig"
   ]
  },
  {
   "cell_type": "markdown",
   "id": "a87a0562",
   "metadata": {},
   "source": [
    "## Warnings"
   ]
  },
  {
   "cell_type": "markdown",
   "id": "6c290b69",
   "metadata": {},
   "source": [
    "In the previous cells warnings were intentionally suppressed. But the flightphase tools normally also show a warning if some of the selected segments contain so-called \"irregularities\". So we first reactivate the warnings:"
   ]
  },
  {
   "cell_type": "code",
   "execution_count": null,
   "id": "97947d66",
   "metadata": {},
   "outputs": [],
   "source": [
    "warnings.simplefilter(\"always\")"
   ]
  },
  {
   "cell_type": "markdown",
   "id": "193dcaab",
   "metadata": {},
   "source": [
    "We repeat one of the previous examples in order to show how the warnings of the flightphase tools look like:"
   ]
  },
  {
   "cell_type": "code",
   "execution_count": null,
   "id": "200058e9",
   "metadata": {},
   "outputs": [],
   "source": [
    "kinds = ['a-train_underflight', 'nya_overflight', 'polarstern_overflight']\n",
    "\n",
    "queried = flight_query.selectKind(kinds)\n",
    "queried"
   ]
  },
  {
   "cell_type": "markdown",
   "id": "b18fc672",
   "metadata": {},
   "source": [
    "The first part of the warning tells us which segment is generating the warning. In this case we have two warnings generated by the segments `ACLOUD_P5_RF14_ma` and `ACLOUD_P5_RF14_ld01`. The second part is the value of the attribute `irregularities`.  A warning is generated when this attribute is not empty. You can access the content of this attribute even if the warnings are suppressed, as you can see in the examples above."
   ]
  },
  {
   "cell_type": "markdown",
   "id": "9bd01e7e",
   "metadata": {},
   "source": [
    "## Select a segment at a specific time or within a specific time range"
   ]
  },
  {
   "cell_type": "markdown",
   "id": "c95a8145",
   "metadata": {},
   "source": [
    "If you want to select all the segments within a specific time range you can do it with the function `findSegments` which takes as parameters the start time and the end time in the `%Y-%m-%d %H:%M:%S` format."
   ]
  },
  {
   "cell_type": "code",
   "execution_count": null,
   "id": "cc83ea1d",
   "metadata": {},
   "outputs": [],
   "source": [
    "starttime = '2017-06-08 12:15:00'\n",
    "endtime   = '2017-06-08 12:45:00'\n",
    "\n",
    "queried = flight_query.findSegments(starttime, endtime)\n",
    "queried"
   ]
  },
  {
   "cell_type": "markdown",
   "id": "43b4f937",
   "metadata": {},
   "source": [
    "For a single time point you just take the end time to be the same as the start time"
   ]
  },
  {
   "cell_type": "code",
   "execution_count": null,
   "id": "8ec7899c",
   "metadata": {},
   "outputs": [],
   "source": [
    "starttime = '2017-06-08 12:00:00'\n",
    "endtime   = starttime\n",
    "\n",
    "queried = flight_query.findSegments(starttime, endtime)\n",
    "queried"
   ]
  }
 ],
 "metadata": {
  "kernelspec": {
   "display_name": "Python 3 (ipykernel)",
   "language": "python",
   "name": "python3"
  },
  "language_info": {
   "codemirror_mode": {
    "name": "ipython",
    "version": 3
   },
   "file_extension": ".py",
   "mimetype": "text/x-python",
   "name": "python",
   "nbconvert_exporter": "python",
   "pygments_lexer": "ipython3",
   "version": "3.8.10"
  }
 },
 "nbformat": 4,
 "nbformat_minor": 5
}
