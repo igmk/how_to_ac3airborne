{
 "cells": [
  {
   "cell_type": "markdown",
   "id": "69fa6ac4",
   "metadata": {},
   "source": [
    "# Hawk\n",
    "Spectral solar cloud top radiance measured by airborne spectral imaging (AISA Hawk)"
   ]
  },
  {
   "cell_type": "markdown",
   "id": "c4d95540",
   "metadata": {},
   "source": [
    "The following example demonstrates the use of Hawk data collected during ACLOUD and AFLUX.\n",
    "\n",
    "Hyperspectral fields of visible and near infrared cloud top radiance observed by AISA Hawk (384 spatial pixels and 384 spectral channels between 931 and 2545 nm) during the ACLOUD (Arctic Cloud Observations Using airborne measurements during polar Day) campaign in May/June 2017 and during the Airborne measurements of radiative and turbulent FLUXes of energy and momentum in the Arctic boundary layer (AFLUX) campaign in March/April 2019.\n",
    "\n",
    "If you have questions or if you would like to use the data for a publication, please don’t hesitate to get in contact with the dataset authors as stated in the dataset attributes contact or author."
   ]
  },
  {
   "cell_type": "markdown",
   "id": "85801f60",
   "metadata": {},
   "source": [
    "## Data access\n",
    "* To analyse the data they first have to be loaded by importing the (AC)³airborne meta data catalogue. To do so the ac3airborne package has to be installed. More information on how to do that and about the catalog can be found [here](https://github.com/igmk/ac3airborne-intake#ac3airborne-intake-catalogue)."
   ]
  },
  {
   "cell_type": "markdown",
   "id": "dd71576a",
   "metadata": {},
   "source": [
    "## Get data"
   ]
  },
  {
   "cell_type": "code",
   "execution_count": 1,
   "id": "9ed06653",
   "metadata": {},
   "outputs": [],
   "source": [
    "import ac3airborne"
   ]
  },
  {
   "cell_type": "code",
   "execution_count": 2,
   "id": "f2b92924",
   "metadata": {},
   "outputs": [
    {
     "data": {
      "text/plain": [
       "['ACLOUD_P5_RF04',\n",
       " 'ACLOUD_P5_RF05',\n",
       " 'ACLOUD_P5_RF06',\n",
       " 'ACLOUD_P5_RF07',\n",
       " 'ACLOUD_P5_RF08',\n",
       " 'ACLOUD_P5_RF10',\n",
       " 'ACLOUD_P5_RF11',\n",
       " 'ACLOUD_P5_RF13',\n",
       " 'ACLOUD_P5_RF14',\n",
       " 'ACLOUD_P5_RF15',\n",
       " 'ACLOUD_P5_RF16',\n",
       " 'ACLOUD_P5_RF17',\n",
       " 'ACLOUD_P5_RF18',\n",
       " 'ACLOUD_P5_RF19',\n",
       " 'ACLOUD_P5_RF20',\n",
       " 'ACLOUD_P5_RF21',\n",
       " 'ACLOUD_P5_RF22',\n",
       " 'ACLOUD_P5_RF23',\n",
       " 'ACLOUD_P5_RF25',\n",
       " 'AFLUX_P5_RF03',\n",
       " 'AFLUX_P5_RF04',\n",
       " 'AFLUX_P5_RF05',\n",
       " 'AFLUX_P5_RF06',\n",
       " 'AFLUX_P5_RF07',\n",
       " 'AFLUX_P5_RF08',\n",
       " 'AFLUX_P5_RF09',\n",
       " 'AFLUX_P5_RF10',\n",
       " 'AFLUX_P5_RF11',\n",
       " 'AFLUX_P5_RF12',\n",
       " 'AFLUX_P5_RF13',\n",
       " 'AFLUX_P5_RF14',\n",
       " 'AFLUX_P5_RF15']"
      ]
     },
     "execution_count": 2,
     "metadata": {},
     "output_type": "execute_result"
    }
   ],
   "source": [
    "cat = ac3airborne.get_intake_catalog()\n",
    "\n",
    "datasets = []\n",
    "for campaign in ['ACLOUD', 'AFLUX']:\n",
    "    datasets.extend(list(cat[campaign]['P5']['HAWK']))\n",
    "datasets"
   ]
  },
  {
   "cell_type": "markdown",
   "id": "e12d7e17",
   "metadata": {},
   "source": [
    "```{note}\n",
    "Have a look at the attributes of the xarray dataset `ds_hawk` for all relevant information on the dataset, such as author, contact, or citation information.\n",
    "```"
   ]
  },
  {
   "cell_type": "code",
   "execution_count": 3,
   "id": "279d2118",
   "metadata": {},
   "outputs": [
    {
     "data": {
      "application/yaml": "ACLOUD_P5_RF10:\n  args:\n    urlpath: simplecache::https://hs.pangaea.de/Projects/AC3/AisaHAWK/AisaHAWK_P5_ACLOUD_Flight_10_20170531.nc\n  description: ''\n  driver: intake_xarray.netcdf.NetCDFSource\n  metadata:\n    catalog_dir: https://raw.githubusercontent.com/igmk/ac3airborne-intake/main/ACLOUD/P5\n",
      "text/plain": [
       "ACLOUD_P5_RF10:\n",
       "  args:\n",
       "    urlpath: simplecache::https://hs.pangaea.de/Projects/AC3/AisaHAWK/AisaHAWK_P5_ACLOUD_Flight_10_20170531.nc\n",
       "  description: ''\n",
       "  driver: intake_xarray.netcdf.NetCDFSource\n",
       "  metadata:\n",
       "    catalog_dir: https://raw.githubusercontent.com/igmk/ac3airborne-intake/main/ACLOUD/P5\n"
      ]
     },
     "metadata": {
      "application/json": {
       "root": "ACLOUD_P5_RF10"
      }
     },
     "output_type": "display_data"
    }
   ],
   "source": [
    "ds_hawk = cat['ACLOUD']['P5']['HAWK']['ACLOUD_P5_RF10']\n",
    "ds_hawk"
   ]
  },
  {
   "cell_type": "code",
   "execution_count": null,
   "id": "88ee373f",
   "metadata": {},
   "outputs": [],
   "source": []
  }
 ],
 "metadata": {
  "kernelspec": {
   "display_name": "Python 3 (ipykernel)",
   "language": "python",
   "name": "python3"
  },
  "language_info": {
   "codemirror_mode": {
    "name": "ipython",
    "version": 3
   },
   "file_extension": ".py",
   "mimetype": "text/x-python",
   "name": "python",
   "nbconvert_exporter": "python",
   "pygments_lexer": "ipython3",
   "version": "3.9.0"
  }
 },
 "nbformat": 4,
 "nbformat_minor": 5
}
