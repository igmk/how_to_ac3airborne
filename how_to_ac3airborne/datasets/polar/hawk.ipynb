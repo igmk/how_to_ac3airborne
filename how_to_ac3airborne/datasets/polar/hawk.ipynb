{
 "cells": [
  {
   "cell_type": "markdown",
   "id": "69fa6ac4",
   "metadata": {},
   "source": [
    "# Hawk"
   ]
  },
  {
   "cell_type": "markdown",
   "id": "c4d95540",
   "metadata": {},
   "source": [
    "Hyperspectral fields of visible and near infrared cloud top radiance observed by AISA Hawk (384 spatial pixels and 384 spectral channels between 931 and 2545 nm) as measured during the ACLOUD, AFLUX, MOSAiC-ACA, and HALO-(AC)3 campaign.\n",
    "\n",
    "If you have questions or if you would like to use the data for a publication, please don’t hesitate to get in contact with the dataset authors as stated in the dataset attributes contact or author."
   ]
  },
  {
   "cell_type": "markdown",
   "id": "85801f60",
   "metadata": {},
   "source": [
    "## Data access\n",
    "The data files from AISA Hawk are very big. Therefore, it is not very convinient or even possible to load them directly from the PANGAEA database. Instead it is recommended to download the whole dataset for each campaign or single flights and store them on a local disk. Paths to the datasets can be found on the respective data description page on PANGAEA: [ACLOUD](https://doi.pangaea.de/10.1594/PANGAEA.902150), [AFLUX](https://doi.pangaea.de/10.1594/PANGAEA.930932), MOSAiC-ACA (not yet available), and HALO-AC3 (not yet available)."
   ]
  },
  {
   "cell_type": "markdown",
   "id": "dd71576a",
   "metadata": {},
   "source": [
    "## Get data"
   ]
  },
  {
   "cell_type": "markdown",
   "id": "f3a0cb9e-73ea-492f-9f37-8c12ceca168b",
   "metadata": {},
   "source": [
    "To analyse the data they first have to be loaded by importing the (AC)³airborne meta data catalogue. To do so the ac3airborne package has to be installed. More information on how to do that and about the catalog can be found [here](https://github.com/igmk/ac3airborne-intake#ac3airborne-intake-catalogue)."
   ]
  },
  {
   "cell_type": "code",
   "execution_count": 1,
   "id": "9ed06653",
   "metadata": {},
   "outputs": [],
   "source": [
    "import ac3airborne"
   ]
  },
  {
   "cell_type": "code",
   "execution_count": 2,
   "id": "f2b92924",
   "metadata": {},
   "outputs": [
    {
     "data": {
      "text/plain": [
       "['ACLOUD_P5_RF04',\n",
       " 'ACLOUD_P5_RF05',\n",
       " 'ACLOUD_P5_RF06',\n",
       " 'ACLOUD_P5_RF07',\n",
       " 'ACLOUD_P5_RF08',\n",
       " 'ACLOUD_P5_RF10',\n",
       " 'ACLOUD_P5_RF11',\n",
       " 'ACLOUD_P5_RF13',\n",
       " 'ACLOUD_P5_RF14',\n",
       " 'ACLOUD_P5_RF15',\n",
       " 'ACLOUD_P5_RF16',\n",
       " 'ACLOUD_P5_RF17',\n",
       " 'ACLOUD_P5_RF18',\n",
       " 'ACLOUD_P5_RF19',\n",
       " 'ACLOUD_P5_RF20',\n",
       " 'ACLOUD_P5_RF21',\n",
       " 'ACLOUD_P5_RF22',\n",
       " 'ACLOUD_P5_RF23',\n",
       " 'ACLOUD_P5_RF25',\n",
       " 'AFLUX_P5_RF03',\n",
       " 'AFLUX_P5_RF04',\n",
       " 'AFLUX_P5_RF05',\n",
       " 'AFLUX_P5_RF06',\n",
       " 'AFLUX_P5_RF07',\n",
       " 'AFLUX_P5_RF08',\n",
       " 'AFLUX_P5_RF09',\n",
       " 'AFLUX_P5_RF10',\n",
       " 'AFLUX_P5_RF11',\n",
       " 'AFLUX_P5_RF12',\n",
       " 'AFLUX_P5_RF13',\n",
       " 'AFLUX_P5_RF14',\n",
       " 'AFLUX_P5_RF15']"
      ]
     },
     "execution_count": 2,
     "metadata": {},
     "output_type": "execute_result"
    }
   ],
   "source": [
    "cat = ac3airborne.get_intake_catalog()\n",
    "\n",
    "instrument = 'HAWK'\n",
    "datasets = []\n",
    "for campaign in ['ACLOUD', 'AFLUX']:\n",
    "    datasets.extend(list(cat[campaign]['P5'][instrument]))\n",
    "datasets"
   ]
  },
  {
   "cell_type": "markdown",
   "id": "2119b635-c429-441f-adc8-f9d619279625",
   "metadata": {},
   "source": [
    "### Reading the data\n",
    "A description on how to work with locally stored or cached data can be found [Caching and local datasets](../../examples/caching_and_local_datasets.html). Assuming the data have been downloaded and stored in */work/mech/data/ac3airborne/*, the arguments for the cache option needs to be defined as follows:"
   ]
  },
  {
   "cell_type": "code",
   "execution_count": 4,
   "id": "d05999cd-550e-44c3-ad04-091a7a4f2750",
   "metadata": {},
   "outputs": [],
   "source": [
    "kwds = {'simplecache': dict(\n",
    "    cache_storage='/work/mech/data/ac3airborne/HAWK/', \n",
    "    same_names=True\n",
    ")}"
   ]
  },
  {
   "cell_type": "markdown",
   "id": "e12d7e17",
   "metadata": {},
   "source": [
    "The dataset can be read by overwritting the intake value for the location of the data with the values just defined."
   ]
  },
  {
   "cell_type": "code",
   "execution_count": 5,
   "id": "513ace9c-d213-41fa-9e15-fb2ce4b71418",
   "metadata": {},
   "outputs": [
    {
     "name": "stderr",
     "output_type": "stream",
     "text": [
      "Invalid MIT-MAGIC-COOKIE-1 key"
     ]
    }
   ],
   "source": [
    "flight_id = 'AFLUX_P5_RF03'\n",
    "ds_hawk = cat['AFLUX']['P5'][instrument][flight_id](storage_options=kwds).to_dask()\n",
    "ds_hawk"
   ]
  }
 ],
 "metadata": {
  "kernelspec": {
   "display_name": "Python 3 (ipykernel)",
   "language": "python",
   "name": "python3"
  },
  "language_info": {
   "codemirror_mode": {
    "name": "ipython",
    "version": 3
   },
   "file_extension": ".py",
   "mimetype": "text/x-python",
   "name": "python",
   "nbconvert_exporter": "python",
   "pygments_lexer": "ipython3",
   "version": "3.8.10"
  }
 },
 "nbformat": 4,
 "nbformat_minor": 5
}
