{
 "cells": [
  {
   "cell_type": "markdown",
   "metadata": {},
   "source": "## HALO position and attitude"
  },
  {
   "cell_type": "markdown",
   "metadata": {},
   "source": [
    "## Data access\n",
    "Some of the data, like the preliminary data of the HALO-(AC)<sup>3</sup> campaign, is stored on the (AC)<sup>3</sup> nextcloud server. This requires username and password as credentials ([registration](https://cloud.ac3-tr.de/index.php/login)) that need to be loaded from environment variables."
   ]
  },
  {
   "cell_type": "code",
   "metadata": {
    "ExecuteTime": {
     "end_time": "2024-12-16T13:19:26.139698Z",
     "start_time": "2024-12-16T13:19:26.131862Z"
    }
   },
   "source": [
    "import os\n",
    "\n",
    "# local caching\n",
    "try:\n",
    "    from dotenv import load_dotenv\n",
    "\n",
    "    load_dotenv()\n",
    "\n",
    "    local_storage = os.environ['INTAKE_CACHE']\n",
    "except (ImportError, KeyError):\n",
    "    local_storage = './tmp/'\n",
    "\n",
    "kwds = {'simplecache': dict(\n",
    "    cache_storage=local_storage,\n",
    "    same_names=True\n",
    ")}"
   ],
   "outputs": [],
   "execution_count": 11
  },
  {
   "metadata": {
    "ExecuteTime": {
     "end_time": "2024-12-16T13:19:26.779444Z",
     "start_time": "2024-12-16T13:19:26.771163Z"
    }
   },
   "cell_type": "code",
   "source": [
    "import ac3airborne\n",
    "from ac3airborne.tools import flightphase\n",
    "import numpy as np\n",
    "import matplotlib.pyplot as plt\n",
    "from matplotlib.colors import to_hex\n",
    "import matplotlib.dates as mdates\n",
    "from matplotlib import cm\n",
    "import ipyleaflet\n",
    "from ipyleaflet import Polyline, Map, basemaps, basemap_to_tiles\n",
    "from ipywidgets import Layout\n",
    "from simplification.cutil import simplify_coords_idx\n",
    "%matplotlib inline"
   ],
   "outputs": [],
   "execution_count": 12
  },
  {
   "cell_type": "markdown",
   "metadata": {},
   "source": [
    "Show available data sets"
   ]
  },
  {
   "cell_type": "code",
   "metadata": {
    "ExecuteTime": {
     "end_time": "2024-12-16T13:19:33.680042Z",
     "start_time": "2024-12-16T13:19:27.606375Z"
    }
   },
   "source": [
    "cat = ac3airborne.get_intake_catalog()\n",
    "meta = ac3airborne.get_flight_segments()"
   ],
   "outputs": [],
   "execution_count": 13
  },
  {
   "cell_type": "code",
   "metadata": {
    "tags": [],
    "ExecuteTime": {
     "end_time": "2024-12-16T13:19:33.704260Z",
     "start_time": "2024-12-16T13:19:33.699314Z"
    }
   },
   "source": [
    "mission = 'HALO-AC3'\n",
    "platform = 'HALO'\n",
    "flight_id = 'HALO-AC3_HALO_RF03'"
   ],
   "outputs": [],
   "execution_count": 14
  },
  {
   "cell_type": "code",
   "metadata": {
    "ExecuteTime": {
     "end_time": "2024-12-16T13:19:33.727808Z",
     "start_time": "2024-12-16T13:19:33.721362Z"
    }
   },
   "source": [
    "flight = meta[mission][platform][flight_id]"
   ],
   "outputs": [],
   "execution_count": 15
  },
  {
   "cell_type": "code",
   "metadata": {
    "ExecuteTime": {
     "end_time": "2024-12-16T13:19:35.113993Z",
     "start_time": "2024-12-16T13:19:33.766130Z"
    }
   },
   "source": [
    "# read gps\n",
    "ds_gps_ins = cat[mission][platform]['GPS_INS'][flight_id](storage_options=kwds).to_dask()"
   ],
   "outputs": [
    {
     "name": "stderr",
     "output_type": "stream",
     "text": [
      "C:\\Users\\Johannes\\miniforge3\\envs\\update-requirements\\Lib\\site-packages\\intake_xarray\\base.py:21: FutureWarning: The return type of `Dataset.dims` will be changed to return a set of dimension names in future, in order to be more consistent with `DataArray.dims`. To access a mapping from dimension names to lengths, please use `Dataset.sizes`.\n",
      "  'dims': dict(self._ds.dims),\n"
     ]
    }
   ],
   "execution_count": 16
  },
  {
   "cell_type": "code",
   "metadata": {
    "ExecuteTime": {
     "end_time": "2024-12-16T13:19:35.141122Z",
     "start_time": "2024-12-16T13:19:35.134295Z"
    }
   },
   "source": [
    "def colors(n):\n",
    "    \"\"\"Creates set of random colors of length n\"\"\"\n",
    "    \n",
    "    cmap = cm.get_cmap('gist_rainbow')\n",
    "    rnd = np.random.uniform(low=0, high=1, size=n)\n",
    "    cols = cmap(rnd)\n",
    "    \n",
    "    return cols\n",
    "\n",
    "\n",
    "def simplify_dataset(ds, tolerance):\n",
    "    indices_to_take = simplify_coords_idx(np.stack([ds.lat.values, ds.lon.values], axis=1), tolerance)\n",
    "    return ds.isel(time=indices_to_take)"
   ],
   "outputs": [],
   "execution_count": 17
  },
  {
   "cell_type": "code",
   "metadata": {
    "ExecuteTime": {
     "end_time": "2024-12-16T13:19:35.378381Z",
     "start_time": "2024-12-16T13:19:35.179663Z"
    }
   },
   "source": [
    "# plot map\n",
    "m = Map(basemap=basemap_to_tiles(basemaps.NASAGIBS.ModisTerraTrueColorCR, str(flight['date'])),\n",
    "        center=(80, 10),\n",
    "        zoom=4,\n",
    "        scroll_wheel_zoom=True,\n",
    "        layout=Layout(width='1000px', height='1000px')\n",
    "        )\n",
    "\n",
    "col_segments = colors(len(flight['segments']))\n",
    "\n",
    "for i, segment in enumerate(flight['segments']):\n",
    "    \n",
    "    # reduce flight segment\n",
    "    ds_reduced = simplify_dataset(ds_gps_ins.sel(time=slice(segment['start'], \n",
    "                                                            segment['end'])), \n",
    "                                  1e-5)\n",
    "    \n",
    "    # plot flight segment\n",
    "    line = Polyline(locations=np.stack([ds_reduced.lat.values, ds_reduced.lon.values], axis=1).tolist(),\n",
    "                    color=to_hex(col_segments[i]),\n",
    "                    fill=False,\n",
    "                    weight=2,\n",
    "                    name=str(i) + ': ' + segment['name'])\n",
    "    m.add_layer(line)\n",
    "\n",
    "m.add_control(ipyleaflet.ScaleControl())\n",
    "m.add_control(ipyleaflet.LayersControl(position='topright'))\n",
    "m.add_control(ipyleaflet.FullScreenControl())\n",
    "\n",
    "display(m)"
   ],
   "outputs": [
    {
     "name": "stderr",
     "output_type": "stream",
     "text": [
      "C:\\Users\\Johannes\\AppData\\Local\\Temp\\ipykernel_15504\\1997003047.py:4: MatplotlibDeprecationWarning: The get_cmap function was deprecated in Matplotlib 3.7 and will be removed in 3.11. Use ``matplotlib.colormaps[name]`` or ``matplotlib.colormaps.get_cmap()`` or ``pyplot.get_cmap()`` instead.\n",
      "  cmap = cm.get_cmap('gist_rainbow')\n"
     ]
    },
    {
     "data": {
      "text/plain": [
       "Map(center=[80, 10], controls=(ZoomControl(options=['position', 'zoom_in_text', 'zoom_in_title', 'zoom_out_tex…"
      ],
      "application/vnd.jupyter.widget-view+json": {
       "version_major": 2,
       "version_minor": 0,
       "model_id": "091aad7cb6a2424f852128bcfafb3d0c"
      }
     },
     "metadata": {},
     "output_type": "display_data"
    }
   ],
   "execution_count": 18
  }
 ],
 "metadata": {
  "kernelspec": {
   "display_name": "ac3",
   "language": "python",
   "name": "python3"
  },
  "language_info": {
   "codemirror_mode": {
    "name": "ipython",
    "version": 3
   },
   "file_extension": ".py",
   "mimetype": "text/x-python",
   "name": "python",
   "nbconvert_exporter": "python",
   "pygments_lexer": "ipython3",
   "version": "3.10.12"
  }
 },
 "nbformat": 4,
 "nbformat_minor": 4
}
