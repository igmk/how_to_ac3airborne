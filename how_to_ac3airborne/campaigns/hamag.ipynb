{
 "cells": [
  {
   "cell_type": "markdown",
   "id": "7c9351f8",
   "metadata": {},
   "source": [
    "## HAMAG\n",
    "Humidity profiles and Arctic Mixed-phase clouds as seen by Airborne W- and G-band radars [HAMAG](https://blog.uni-koeln.de/awares/category/campaigns-conf/hamag/) Polar 6 campaign for testing the G-band differential absorption radar (GRaWAC - G-band Radar for Water vapor and Arctic Clouds) out of Kiruna (7.-22.2.2024)\n",
    "\n",
    "<img src=\"../img/hamag_flights.png\" alt=\"HAMAG flight tracks\" width=\"400\" style=\"horizontal-align:center\"/>\n",
    "\n",
    "Flight tracks of the HAMAG campaign."
   ]
  },
  {
   "cell_type": "code",
   "execution_count": null,
   "id": "6f774344",
   "metadata": {
    "vscode": {
     "languageId": "plaintext"
    }
   },
   "outputs": [],
   "source": [
    "%matplotlib inline\n",
    "import ac3airborne\n",
    "import matplotlib.pyplot as plt\n",
    "import matplotlib.patches as mpatches\n",
    "import numpy as np\n",
    "plt.style.use(\"../mplstyle/book\")\n",
    "\n",
    "# load intake catalog and flight segments\n",
    "cat = ac3airborne.get_intake_catalog()\n",
    "meta = ac3airborne.get_flight_segments()\n",
    "\n",
    "ancillary = ['AMSR2_SIC']\n",
    "\n",
    "def data_availability(mission, platform):\n",
    "    \"\"\"\n",
    "    Plot data availability matrix\n",
    "    \"\"\"\n",
    "    \n",
    "    # store data availability in a matrix\n",
    "    data_availability = np.zeros(shape=(len(list(cat[mission][platform])),\n",
    "                                        len(list(meta[mission][platform]))))\n",
    "    for i, dataset in enumerate(list(cat[mission][platform])):\n",
    "        data_availability[i, :] = np.isin(list(meta[mission][platform]), \n",
    "                                          list(cat[mission][platform][dataset]))\n",
    "\n",
    "    # plot data availability\n",
    "    yscale = data_availability.shape[1]\n",
    "    fig, ax = plt.subplots(1, 1, figsize=(10, 3+0.4*yscale))\n",
    "    \n",
    "    ax.pcolormesh(range(data_availability.shape[0]), \n",
    "                  range(data_availability.shape[1]), \n",
    "                  data_availability.T, \n",
    "                  shading='nearest',\n",
    "                  vmin=0, \n",
    "                  vmax=1, \n",
    "                  cmap='RdYlGn', \n",
    "                  edgecolors='#eeeeee')\n",
    "\n",
    "    ax.set_xticks(range(data_availability.shape[0]))\n",
    "    ax.set_yticks(range(data_availability.shape[1]))\n",
    "\n",
    "    xlabels = []\n",
    "    for ds_name in list(cat[mission][platform]):\n",
    "        if ds_name in ancillary:\n",
    "            ds_name += '\\n(ancillary)'\n",
    "        xlabels.append(ds_name)\n",
    "\n",
    "    ax.set_xticklabels(xlabels, rotation=90)\n",
    "    y_labels = [flight_id+', '+flight['date'].strftime('%Y-%m-%d') \n",
    "                for flight_id, flight in meta[mission][platform].items()]\n",
    "    ax.set_yticklabels(y_labels)\n",
    "\n",
    "    ax.tick_params(labeltop=True)\n",
    "    ax.invert_yaxis()\n",
    "\n",
    "    available = mpatches.Patch(color='green', label='Data available')\n",
    "    not_flown = mpatches.Patch(color='red', label='Data missing or\\ninstrument failed')\n",
    "\n",
    "    ax.legend(handles=[available, not_flown], ncol=1,\n",
    "              bbox_to_anchor=(0, 1.01), loc='lower right')\n",
    "\n",
    "    plt.show()"
   ]
  },
  {
   "cell_type": "markdown",
   "id": "c34ad095",
   "metadata": {},
   "source": [
    "## Polar 6"
   ]
  },
  {
   "cell_type": "code",
   "execution_count": null,
   "id": "53dd4a69",
   "metadata": {
    "vscode": {
     "languageId": "plaintext"
    }
   },
   "outputs": [],
   "source": [
    "data_availability(mission='HAMAG', platform='P6')"
   ]
  }
 ],
 "metadata": {
  "language_info": {
   "name": "python"
  }
 },
 "nbformat": 4,
 "nbformat_minor": 5
}
