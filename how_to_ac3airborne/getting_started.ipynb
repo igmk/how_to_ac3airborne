{
 "cells": [
  {
   "cell_type": "markdown",
   "id": "2309de26",
   "metadata": {},
   "source": [
    "# Getting started with ac3airborne"
   ]
  },
  {
   "cell_type": "markdown",
   "id": "45ffd6bd",
   "metadata": {},
   "source": [
    "Welcome to **ac3airborne**! We’re glad you’re here and we hope that you find this Python library to be useful for your needs. In order to help get you started with **ac3airborne**, we’ve put together this collection of tutorials to introduce you to the basic syntax and functionality of this library.\n",
    "\n",
    "For installation instructions, please see our [Github Repository](https://github.com/igmk/ac3airborne).\n",
    "\n",
    "This package intends to make the access to the airborne data collected within the various [AC3](http://www.ac3-tr.de/) airborne campaigns more easy."
   ]
  },
  {
   "cell_type": "markdown",
   "id": "055aeb94",
   "metadata": {},
   "source": [
    "In some of the examples you will see an icon like the first one on this picture:"
   ]
  },
  {
   "cell_type": "markdown",
   "id": "ec411bc0",
   "metadata": {},
   "source": [
    "![title](img/icons.png)"
   ]
  },
  {
   "cell_type": "markdown",
   "id": "c054cfdc",
   "metadata": {},
   "source": [
    "Just go with your mouse on it:"
   ]
  },
  {
   "cell_type": "markdown",
   "id": "f597f76a",
   "metadata": {},
   "source": [
    "![title](img/binder.png)"
   ]
  },
  {
   "cell_type": "markdown",
   "id": "1e20980d",
   "metadata": {},
   "source": [
    "Clicking on *Binder* an virtual environment will be opend and the page will be shown as a Jupyter Notebook in a Jupyter Hub, so that you can try the examples yourself!"
   ]
  },
  {
   "cell_type": "markdown",
   "id": "47c83bf5",
   "metadata": {},
   "source": [
    "## Functionality"
   ]
  },
  {
   "cell_type": "markdown",
   "id": "f2df6496",
   "metadata": {},
   "source": [
    "First of all we want to import the `ac3airborne` module:"
   ]
  },
  {
   "cell_type": "code",
   "execution_count": 1,
   "id": "6bab1596",
   "metadata": {},
   "outputs": [],
   "source": [
    "import ac3airborne as ac3a"
   ]
  },
  {
   "cell_type": "markdown",
   "id": "be816340",
   "metadata": {},
   "source": [
    "If you want to check which version of the package is currently installed:"
   ]
  },
  {
   "cell_type": "code",
   "execution_count": 2,
   "id": "46c4b996",
   "metadata": {},
   "outputs": [
    {
     "data": {
      "text/plain": [
       "'v0.0.6'"
      ]
     },
     "execution_count": 2,
     "metadata": {},
     "output_type": "execute_result"
    }
   ],
   "source": [
    "ac3a.__version__"
   ]
  },
  {
   "cell_type": "markdown",
   "id": "bcee9f8f",
   "metadata": {},
   "source": [
    "### Basic methods"
   ]
  },
  {
   "cell_type": "markdown",
   "id": "862a287b",
   "metadata": {},
   "source": [
    "There are two basic methods which do most of the work in this library:\n",
    "\n",
    "* `get_flight_segments`\n",
    "* `get_intake_catalog`"
   ]
  },
  {
   "cell_type": "markdown",
   "id": "9c49fb68",
   "metadata": {},
   "source": [
    "#### ac3airborne.get_flight_segments"
   ]
  },
  {
   "cell_type": "code",
   "execution_count": 3,
   "id": "bcab7d1b",
   "metadata": {},
   "outputs": [],
   "source": [
    "meta = ac3a.get_flight_segments()"
   ]
  },
  {
   "cell_type": "markdown",
   "id": "bda0ef88",
   "metadata": {},
   "source": [
    "This method downloads and parses flight segmentation information. Let's look into its output:"
   ]
  },
  {
   "cell_type": "code",
   "execution_count": 4,
   "id": "453b0585",
   "metadata": {},
   "outputs": [
    {
     "data": {
      "text/plain": [
       "dict"
      ]
     },
     "execution_count": 4,
     "metadata": {},
     "output_type": "execute_result"
    }
   ],
   "source": [
    "type(meta)"
   ]
  },
  {
   "cell_type": "markdown",
   "id": "0cda17dd",
   "metadata": {},
   "source": [
    "As you can see, the method returns a dictionary. Let's take a look to its keys:"
   ]
  },
  {
   "cell_type": "code",
   "execution_count": 5,
   "id": "dc973961",
   "metadata": {},
   "outputs": [
    {
     "data": {
      "text/plain": [
       "['P5', 'P6']"
      ]
     },
     "execution_count": 5,
     "metadata": {},
     "output_type": "execute_result"
    }
   ],
   "source": [
    "list(meta.keys())"
   ]
  },
  {
   "cell_type": "markdown",
   "id": "2c3ebaf4",
   "metadata": {},
   "source": [
    "We have to keys, corresponding to the *polar 5* and to the *polar 6* aircrafts. We select one of them and take a look to the nested structure of the dictionary."
   ]
  },
  {
   "cell_type": "code",
   "execution_count": 6,
   "id": "6c056afc",
   "metadata": {},
   "outputs": [
    {
     "data": {
      "text/plain": [
       "dict"
      ]
     },
     "execution_count": 6,
     "metadata": {},
     "output_type": "execute_result"
    }
   ],
   "source": [
    "type(meta['P5'])"
   ]
  },
  {
   "cell_type": "code",
   "execution_count": 7,
   "id": "7ed8e153",
   "metadata": {},
   "outputs": [
    {
     "data": {
      "text/plain": [
       "['ACLOUD_P5_RF04',\n",
       " 'ACLOUD_P5_RF05',\n",
       " 'ACLOUD_P5_RF06',\n",
       " 'ACLOUD_P5_RF07',\n",
       " 'ACLOUD_P5_RF08',\n",
       " 'ACLOUD_P5_RF10',\n",
       " 'ACLOUD_P5_RF11',\n",
       " 'ACLOUD_P5_RF13',\n",
       " 'ACLOUD_P5_RF14',\n",
       " 'ACLOUD_P5_RF15',\n",
       " 'ACLOUD_P5_RF16',\n",
       " 'ACLOUD_P5_RF17',\n",
       " 'ACLOUD_P5_RF18',\n",
       " 'ACLOUD_P5_RF19',\n",
       " 'ACLOUD_P5_RF20',\n",
       " 'ACLOUD_P5_RF21',\n",
       " 'ACLOUD_P5_RF22',\n",
       " 'ACLOUD_P5_RF23',\n",
       " 'ACLOUD_P5_RF25',\n",
       " 'AFLUX_P5_RF02',\n",
       " 'AFLUX_P5_RF03',\n",
       " 'AFLUX_P5_RF04',\n",
       " 'AFLUX_P5_RF05',\n",
       " 'AFLUX_P5_RF06',\n",
       " 'AFLUX_P5_RF07',\n",
       " 'AFLUX_P5_RF08',\n",
       " 'AFLUX_P5_RF09',\n",
       " 'AFLUX_P5_RF10',\n",
       " 'AFLUX_P5_RF11',\n",
       " 'AFLUX_P5_RF12',\n",
       " 'AFLUX_P5_RF13',\n",
       " 'AFLUX_P5_RF14',\n",
       " 'AFLUX_P5_RF15',\n",
       " 'MOSAiC-ACA_P5_RF02',\n",
       " 'MOSAiC-ACA_P5_RF03',\n",
       " 'MOSAiC-ACA_P5_RF04',\n",
       " 'MOSAiC-ACA_P5_RF05',\n",
       " 'MOSAiC-ACA_P5_RF06',\n",
       " 'MOSAiC-ACA_P5_RF07',\n",
       " 'MOSAiC-ACA_P5_RF08',\n",
       " 'MOSAiC-ACA_P5_RF09',\n",
       " 'MOSAiC-ACA_P5_RF10',\n",
       " 'MOSAiC-ACA_P5_RF11']"
      ]
     },
     "execution_count": 7,
     "metadata": {},
     "output_type": "execute_result"
    }
   ],
   "source": [
    "list(meta['P5'].keys())"
   ]
  },
  {
   "cell_type": "markdown",
   "id": "c9590a67",
   "metadata": {},
   "source": [
    "As you can see, once we selected the aircraft, the second level of the nested dictionary consists of the names of the research flights. We can now select a specific flight and look deeper into it:"
   ]
  },
  {
   "cell_type": "code",
   "execution_count": 8,
   "id": "7192b355",
   "metadata": {},
   "outputs": [
    {
     "data": {
      "text/plain": [
       "dict"
      ]
     },
     "execution_count": 8,
     "metadata": {},
     "output_type": "execute_result"
    }
   ],
   "source": [
    "type(meta['P5']['ACLOUD_P5_RF14'])"
   ]
  },
  {
   "cell_type": "code",
   "execution_count": 9,
   "id": "9ab9c653",
   "metadata": {},
   "outputs": [
    {
     "data": {
      "text/plain": [
       "['contacts',\n",
       " 'date',\n",
       " 'events',\n",
       " 'flight_id',\n",
       " 'flight_report',\n",
       " 'landing',\n",
       " 'mission',\n",
       " 'name',\n",
       " 'platform',\n",
       " 'remarks',\n",
       " 'segments',\n",
       " 'takeoff']"
      ]
     },
     "execution_count": 9,
     "metadata": {},
     "output_type": "execute_result"
    }
   ],
   "source": [
    "list(meta['P5']['ACLOUD_P5_RF14'].keys())"
   ]
  },
  {
   "cell_type": "markdown",
   "id": "3934d32b",
   "metadata": {},
   "source": [
    "We now see that this flight contains following informations:\n",
    "\n",
    "* `contacts`\n",
    "* `date`\n",
    "* `events`\n",
    "* `flight_id`\n",
    "* `flight_report`\n",
    "* `landing`\n",
    "* `mission`\n",
    "* `name`\n",
    "* `platform`\n",
    "* `remarks`\n",
    "* `segments`\n",
    "* `takeoff`"
   ]
  },
  {
   "cell_type": "markdown",
   "id": "e95193db",
   "metadata": {},
   "source": [
    "##### `contacts` `flight_report`"
   ]
  },
  {
   "cell_type": "markdown",
   "id": "1536c2be",
   "metadata": {},
   "source": [
    "The first it's just the contact data for reference, for example:"
   ]
  },
  {
   "cell_type": "code",
   "execution_count": 10,
   "id": "48f6f374",
   "metadata": {},
   "outputs": [
    {
     "data": {
      "text/plain": [
       "[{'email': 'mario.mech@uni-koeln.de',\n",
       "  'name': 'Mario Mech',\n",
       "  'tags': ['pi', 'lc']}]"
      ]
     },
     "execution_count": 10,
     "metadata": {},
     "output_type": "execute_result"
    }
   ],
   "source": [
    "meta['P5']['ACLOUD_P5_RF14']['contacts']"
   ]
  },
  {
   "cell_type": "markdown",
   "id": "29a781a6",
   "metadata": {},
   "source": [
    "The second is the location of the metadata:"
   ]
  },
  {
   "cell_type": "code",
   "execution_count": 11,
   "id": "0f4228ad",
   "metadata": {},
   "outputs": [
    {
     "data": {
      "text/plain": [
       "'https://home.uni-leipzig.de/~ehrlich/ACLOUD_wiki_doku/lib/exe/fetch.php?media=14_20170608_p5_acloud_flight_report.pdf'"
      ]
     },
     "execution_count": 11,
     "metadata": {},
     "output_type": "execute_result"
    }
   ],
   "source": [
    "meta['P5']['ACLOUD_P5_RF14']['flight_report']"
   ]
  },
  {
   "cell_type": "markdown",
   "id": "9b2aa625",
   "metadata": {},
   "source": [
    "##### `date` `takeoff` `landing`"
   ]
  },
  {
   "cell_type": "markdown",
   "id": "2fa6a6ca",
   "metadata": {},
   "source": [
    "The date of the flight, the time when it took of and when it landed:"
   ]
  },
  {
   "cell_type": "code",
   "execution_count": 12,
   "id": "c6e226a0",
   "metadata": {},
   "outputs": [
    {
     "data": {
      "text/plain": [
       "datetime.date(2017, 6, 8)"
      ]
     },
     "execution_count": 12,
     "metadata": {},
     "output_type": "execute_result"
    }
   ],
   "source": [
    "meta['P5']['ACLOUD_P5_RF14']['date']"
   ]
  },
  {
   "cell_type": "code",
   "execution_count": 13,
   "id": "b7c1e51e",
   "metadata": {},
   "outputs": [
    {
     "data": {
      "text/plain": [
       "datetime.datetime(2017, 6, 8, 7, 36, 50)"
      ]
     },
     "execution_count": 13,
     "metadata": {},
     "output_type": "execute_result"
    }
   ],
   "source": [
    "meta['P5']['ACLOUD_P5_RF14']['takeoff']"
   ]
  },
  {
   "cell_type": "code",
   "execution_count": 14,
   "id": "c2a799c7",
   "metadata": {},
   "outputs": [
    {
     "data": {
      "text/plain": [
       "datetime.datetime(2017, 6, 8, 12, 51, 25)"
      ]
     },
     "execution_count": 14,
     "metadata": {},
     "output_type": "execute_result"
    }
   ],
   "source": [
    "meta['P5']['ACLOUD_P5_RF14']['landing']"
   ]
  },
  {
   "cell_type": "markdown",
   "id": "bc6c40c0",
   "metadata": {},
   "source": [
    "As you can see the time is given as `datetime.date` or `datetime.datetime`object."
   ]
  },
  {
   "cell_type": "markdown",
   "id": "190bf6b3",
   "metadata": {},
   "source": [
    "##### `events` `remarks`"
   ]
  },
  {
   "cell_type": "markdown",
   "id": "f3d9a97a",
   "metadata": {},
   "source": [
    "Some metadata:"
   ]
  },
  {
   "cell_type": "code",
   "execution_count": 15,
   "id": "270001db",
   "metadata": {},
   "outputs": [
    {
     "data": {
      "text/plain": [
       "['Ny-Alesund overflight with cross pattern',\n",
       " 'Polarstern overflight with cross pattern',\n",
       " 'Colocation with P6 at Polarstern',\n",
       " 'A-train underflight',\n",
       " 'Racetrack pattern over sea ice',\n",
       " 'Radiometer calibration']"
      ]
     },
     "execution_count": 15,
     "metadata": {},
     "output_type": "execute_result"
    }
   ],
   "source": [
    "meta['P5']['ACLOUD_P5_RF14']['events']"
   ]
  },
  {
   "cell_type": "code",
   "execution_count": 16,
   "id": "21f1a5c0",
   "metadata": {},
   "outputs": [
    {
     "data": {
      "text/plain": [
       "['Thin broken clouds over sea ice']"
      ]
     },
     "execution_count": 16,
     "metadata": {},
     "output_type": "execute_result"
    }
   ],
   "source": [
    "meta['P5']['ACLOUD_P5_RF14']['remarks']"
   ]
  },
  {
   "cell_type": "markdown",
   "id": "25e8ba31",
   "metadata": {},
   "source": [
    "##### other keys"
   ]
  },
  {
   "cell_type": "code",
   "execution_count": 17,
   "id": "d1cbccff",
   "metadata": {},
   "outputs": [
    {
     "data": {
      "text/plain": [
       "'ACLOUD'"
      ]
     },
     "execution_count": 17,
     "metadata": {},
     "output_type": "execute_result"
    }
   ],
   "source": [
    "meta['P5']['ACLOUD_P5_RF14']['mission']"
   ]
  },
  {
   "cell_type": "code",
   "execution_count": 18,
   "id": "97ab03b1",
   "metadata": {},
   "outputs": [
    {
     "data": {
      "text/plain": [
       "'P5'"
      ]
     },
     "execution_count": 18,
     "metadata": {},
     "output_type": "execute_result"
    }
   ],
   "source": [
    "meta['P5']['ACLOUD_P5_RF14']['platform']"
   ]
  },
  {
   "cell_type": "code",
   "execution_count": 19,
   "id": "452eed4a",
   "metadata": {},
   "outputs": [
    {
     "data": {
      "text/plain": [
       "'RF14'"
      ]
     },
     "execution_count": 19,
     "metadata": {},
     "output_type": "execute_result"
    }
   ],
   "source": [
    "meta['P5']['ACLOUD_P5_RF14']['name']"
   ]
  },
  {
   "cell_type": "code",
   "execution_count": 20,
   "id": "6e85157b",
   "metadata": {},
   "outputs": [
    {
     "data": {
      "text/plain": [
       "'ACLOUD_P5_RF14'"
      ]
     },
     "execution_count": 20,
     "metadata": {},
     "output_type": "execute_result"
    }
   ],
   "source": [
    "meta['P5']['ACLOUD_P5_RF14']['flight_id']"
   ]
  },
  {
   "cell_type": "markdown",
   "id": "ced35388",
   "metadata": {},
   "source": [
    "##### The true flight `segments`"
   ]
  },
  {
   "cell_type": "markdown",
   "id": "3fee23be",
   "metadata": {},
   "source": [
    "This is the key, which actually contains the segmented flight. Let's take a closer look:"
   ]
  },
  {
   "cell_type": "code",
   "execution_count": 21,
   "id": "208779ad",
   "metadata": {},
   "outputs": [
    {
     "data": {
      "text/plain": [
       "list"
      ]
     },
     "execution_count": 21,
     "metadata": {},
     "output_type": "execute_result"
    }
   ],
   "source": [
    "type(meta['P5']['ACLOUD_P5_RF14']['segments'])"
   ]
  },
  {
   "cell_type": "markdown",
   "id": "ed02e1c3",
   "metadata": {},
   "source": [
    "As you can see the `segments`-key does not contain a dictionary, as the previous levels. Instead it contains a list! Let's take the first element:"
   ]
  },
  {
   "cell_type": "code",
   "execution_count": 22,
   "id": "dafbced2",
   "metadata": {},
   "outputs": [
    {
     "data": {
      "text/plain": [
       "dict"
      ]
     },
     "execution_count": 22,
     "metadata": {},
     "output_type": "execute_result"
    }
   ],
   "source": [
    "type(meta['P5']['ACLOUD_P5_RF14']['segments'][0])"
   ]
  },
  {
   "cell_type": "markdown",
   "id": "9413940b",
   "metadata": {},
   "source": [
    "So the `segment`-key contains actually a list of dictionary as value. Let's just print this first segment:"
   ]
  },
  {
   "cell_type": "code",
   "execution_count": 23,
   "id": "6c8e96f9",
   "metadata": {},
   "outputs": [
    {
     "data": {
      "text/plain": [
       "{'dropsondes': [],\n",
       " 'end': datetime.datetime(2017, 6, 8, 8, 8, 53),\n",
       " 'irregularities': ['whale-watching loop'],\n",
       " 'kinds': ['major_ascend', 'nya_overflight', 'sveabreen_glacier_overflight'],\n",
       " 'levels': [100, 9700],\n",
       " 'name': 'major ascend',\n",
       " 'segment_id': 'ACLOUD_P5_RF14_ma',\n",
       " 'start': datetime.datetime(2017, 6, 8, 7, 36, 50)}"
      ]
     },
     "execution_count": 23,
     "metadata": {},
     "output_type": "execute_result"
    }
   ],
   "source": [
    "meta['P5']['ACLOUD_P5_RF14']['segments'][0]"
   ]
  },
  {
   "cell_type": "markdown",
   "id": "eff96fbc",
   "metadata": {},
   "source": [
    "and it's keys:"
   ]
  },
  {
   "cell_type": "code",
   "execution_count": 24,
   "id": "f1fc9e1d",
   "metadata": {},
   "outputs": [
    {
     "data": {
      "text/plain": [
       "['dropsondes',\n",
       " 'end',\n",
       " 'irregularities',\n",
       " 'kinds',\n",
       " 'levels',\n",
       " 'name',\n",
       " 'segment_id',\n",
       " 'start']"
      ]
     },
     "execution_count": 24,
     "metadata": {},
     "output_type": "execute_result"
    }
   ],
   "source": [
    "list(meta['P5']['ACLOUD_P5_RF14']['segments'][0].keys())"
   ]
  },
  {
   "cell_type": "markdown",
   "id": "8ab08b7f",
   "metadata": {},
   "source": [
    "As you can see a flight segment usually contains:\n",
    "\n",
    "* `start` and `end` time\n",
    "* `levels` height(s) of the flight\n",
    "* `name` and `segment_id` to identify it\n",
    "* `kinds` or to which type of segments it belongs (`high_level`, `low_level` and so on)\n",
    "* `irregularities` some comments about irregularies\n",
    "* `dropsondes`"
   ]
  },
  {
   "cell_type": "markdown",
   "id": "a488ef51",
   "metadata": {},
   "source": [
    "Take a look at [Querying the flight phase files](https://igmk.github.io/how_to_ac3airborne/examples/reading_the_flight_phase_files.html) for a more advanced selection of the segments."
   ]
  },
  {
   "cell_type": "markdown",
   "id": "c0d09841",
   "metadata": {},
   "source": [
    "#### ac3airborne.get_intake_catalog"
   ]
  },
  {
   "cell_type": "code",
   "execution_count": 25,
   "id": "b2dfa867",
   "metadata": {},
   "outputs": [],
   "source": [
    "cat = ac3a.get_intake_catalog()"
   ]
  },
  {
   "cell_type": "markdown",
   "id": "e2a3a46a",
   "metadata": {},
   "source": [
    "Open the intake data catalog. The catalog provides access to public AC3 airborne datasets without the need to manually specify URLs to the individual datasets. Let's take a look into it:"
   ]
  },
  {
   "cell_type": "code",
   "execution_count": 26,
   "id": "ef16b582",
   "metadata": {},
   "outputs": [
    {
     "data": {
      "text/plain": [
       "intake.catalog.local.YAMLFileCatalog"
      ]
     },
     "execution_count": 26,
     "metadata": {},
     "output_type": "execute_result"
    }
   ],
   "source": [
    "type(cat)"
   ]
  },
  {
   "cell_type": "markdown",
   "id": "5cde3197",
   "metadata": {},
   "source": [
    "As you can see, this is not a dictionary, but it has keys that can be selected as a dictionary:"
   ]
  },
  {
   "cell_type": "code",
   "execution_count": 27,
   "id": "dfda0e9a",
   "metadata": {},
   "outputs": [
    {
     "data": {
      "text/plain": [
       "['P5', 'P6', 'Polarstern']"
      ]
     },
     "execution_count": 27,
     "metadata": {},
     "output_type": "execute_result"
    }
   ],
   "source": [
    "list(cat.keys())"
   ]
  },
  {
   "cell_type": "markdown",
   "id": "6b1c6070",
   "metadata": {},
   "source": [
    "Let's take again the *polar 5*:"
   ]
  },
  {
   "cell_type": "code",
   "execution_count": 28,
   "id": "8db07e80",
   "metadata": {},
   "outputs": [
    {
     "data": {
      "text/plain": [
       "['GPS_INS',\n",
       " 'AMSR2_SIC',\n",
       " 'CLOUD_TOP_HEIGHT',\n",
       " 'MIRAC_A',\n",
       " 'MIRAC_P',\n",
       " 'HATPRO',\n",
       " 'NEVZOROV',\n",
       " 'CAS',\n",
       " 'CDP',\n",
       " 'CIP',\n",
       " 'PIP',\n",
       " 'PMS_COMBINED',\n",
       " 'DROPSONDES',\n",
       " 'FISH_EYE_CAMERA',\n",
       " 'BROADBAND_IRRADIANCE',\n",
       " 'NOSE_BOOM']"
      ]
     },
     "execution_count": 28,
     "metadata": {},
     "output_type": "execute_result"
    }
   ],
   "source": [
    "list(cat['P5'].keys())"
   ]
  },
  {
   "cell_type": "markdown",
   "id": "042cbfdf",
   "metadata": {},
   "source": [
    "These are the data set which are available for the *polar 5*. Let's take `GPS_INS`:"
   ]
  },
  {
   "cell_type": "code",
   "execution_count": 29,
   "id": "8077cb00",
   "metadata": {},
   "outputs": [
    {
     "data": {
      "text/plain": [
       "['ACLOUD_P5_RF04',\n",
       " 'ACLOUD_P5_RF05',\n",
       " 'ACLOUD_P5_RF06',\n",
       " 'ACLOUD_P5_RF07',\n",
       " 'ACLOUD_P5_RF08',\n",
       " 'ACLOUD_P5_RF10',\n",
       " 'ACLOUD_P5_RF11',\n",
       " 'ACLOUD_P5_RF13',\n",
       " 'ACLOUD_P5_RF14',\n",
       " 'ACLOUD_P5_RF15',\n",
       " 'ACLOUD_P5_RF16',\n",
       " 'ACLOUD_P5_RF17',\n",
       " 'ACLOUD_P5_RF18',\n",
       " 'ACLOUD_P5_RF19',\n",
       " 'ACLOUD_P5_RF20',\n",
       " 'ACLOUD_P5_RF21',\n",
       " 'ACLOUD_P5_RF22',\n",
       " 'ACLOUD_P5_RF23',\n",
       " 'ACLOUD_P5_RF25',\n",
       " 'AFLUX_P5_RF02',\n",
       " 'AFLUX_P5_RF03',\n",
       " 'AFLUX_P5_RF04',\n",
       " 'AFLUX_P5_RF05',\n",
       " 'AFLUX_P5_RF06',\n",
       " 'AFLUX_P5_RF07',\n",
       " 'AFLUX_P5_RF08',\n",
       " 'AFLUX_P5_RF09',\n",
       " 'AFLUX_P5_RF10',\n",
       " 'AFLUX_P5_RF11',\n",
       " 'AFLUX_P5_RF12',\n",
       " 'AFLUX_P5_RF13',\n",
       " 'AFLUX_P5_RF14',\n",
       " 'AFLUX_P5_RF15',\n",
       " 'MOSAiC-ACA_P5_RF02',\n",
       " 'MOSAiC-ACA_P5_RF03',\n",
       " 'MOSAiC-ACA_P5_RF04',\n",
       " 'MOSAiC-ACA_P5_RF05',\n",
       " 'MOSAiC-ACA_P5_RF06',\n",
       " 'MOSAiC-ACA_P5_RF07',\n",
       " 'MOSAiC-ACA_P5_RF08',\n",
       " 'MOSAiC-ACA_P5_RF09',\n",
       " 'MOSAiC-ACA_P5_RF10',\n",
       " 'MOSAiC-ACA_P5_RF11']"
      ]
     },
     "execution_count": 29,
     "metadata": {},
     "output_type": "execute_result"
    }
   ],
   "source": [
    "list(cat['P5']['GPS_INS'].keys())"
   ]
  },
  {
   "cell_type": "markdown",
   "id": "c63aab06",
   "metadata": {},
   "source": [
    "These are the flight that are available for the given dataset. Let's take again `ACLOUD_P5_RF14`:"
   ]
  },
  {
   "cell_type": "code",
   "execution_count": 30,
   "id": "e9455c61",
   "metadata": {},
   "outputs": [
    {
     "data": {
      "text/plain": [
       "intake_xarray.netcdf.NetCDFSource"
      ]
     },
     "execution_count": 30,
     "metadata": {},
     "output_type": "execute_result"
    }
   ],
   "source": [
    "type(cat['P5']['GPS_INS']['ACLOUD_P5_RF14'])"
   ]
  },
  {
   "cell_type": "code",
   "execution_count": 31,
   "id": "94b258dc",
   "metadata": {},
   "outputs": [
    {
     "data": {
      "application/yaml": "ACLOUD_P5_RF14:\n  args:\n    urlpath: https://atmos.meteo.uni-koeln.de/ac3/acloud/p5/gps_ins/gps_ins_ACLOUD_polar5_20170608_RF14.nc\n  description: ''\n  driver: intake_xarray.netcdf.NetCDFSource\n  metadata:\n    catalog_dir: https://raw.githubusercontent.com/igmk/ac3airborne-intake/main/P5\n",
      "text/plain": [
       "ACLOUD_P5_RF14:\n",
       "  args:\n",
       "    urlpath: https://atmos.meteo.uni-koeln.de/ac3/acloud/p5/gps_ins/gps_ins_ACLOUD_polar5_20170608_RF14.nc\n",
       "  description: ''\n",
       "  driver: intake_xarray.netcdf.NetCDFSource\n",
       "  metadata:\n",
       "    catalog_dir: https://raw.githubusercontent.com/igmk/ac3airborne-intake/main/P5\n"
      ]
     },
     "metadata": {
      "application/json": {
       "root": "ACLOUD_P5_RF14"
      }
     },
     "output_type": "display_data"
    }
   ],
   "source": [
    "cat['P5']['GPS_INS']['ACLOUD_P5_RF14']"
   ]
  },
  {
   "cell_type": "markdown",
   "id": "83cc6aa7",
   "metadata": {},
   "source": [
    "In order to read the data set, use the method `.to_dask()` (or sometimes `.read()`) as explained in the examples under [datasets](https://igmk.github.io/how_to_ac3airborne/datasets.html)"
   ]
  },
  {
   "cell_type": "markdown",
   "id": "e9fd28d5",
   "metadata": {},
   "source": [
    "### Constants"
   ]
  },
  {
   "cell_type": "markdown",
   "id": "4e87befb",
   "metadata": {},
   "source": [
    "**ac3airborne** comes with some predefined constants, such the coordinates of Ny-Ålesund and Longyearbyen give as dictionaries:"
   ]
  },
  {
   "cell_type": "code",
   "execution_count": 32,
   "id": "ed159de5",
   "metadata": {},
   "outputs": [],
   "source": [
    "import ac3airborne.constants as ac3c"
   ]
  },
  {
   "cell_type": "code",
   "execution_count": 33,
   "id": "906cc515",
   "metadata": {},
   "outputs": [
    {
     "data": {
      "text/plain": [
       "{'name': 'Ny-Ålesund', 'lon': 11.922222, 'lat': 78.925}"
      ]
     },
     "execution_count": 33,
     "metadata": {},
     "output_type": "execute_result"
    }
   ],
   "source": [
    "ac3c.NYA"
   ]
  },
  {
   "cell_type": "code",
   "execution_count": 34,
   "id": "f88eff6f",
   "metadata": {},
   "outputs": [
    {
     "data": {
      "text/plain": [
       "{'name': 'Longyearbyen', 'lon': 15.633333, 'lat': 78.216667}"
      ]
     },
     "execution_count": 34,
     "metadata": {},
     "output_type": "execute_result"
    }
   ],
   "source": [
    "ac3c.LYB"
   ]
  },
  {
   "cell_type": "code",
   "execution_count": 35,
   "id": "9089cade",
   "metadata": {},
   "outputs": [
    {
     "data": {
      "text/plain": [
       "{'name': 'Svalbard Airport, Longyear',\n",
       " 'icao': 'ENSB',\n",
       " 'iata': 'LYR',\n",
       " 'lon': 15.465556,\n",
       " 'lat': 78.246111,\n",
       " 'elev_m': 28.0,\n",
       " 'elev_ft': 94.0}"
      ]
     },
     "execution_count": 35,
     "metadata": {},
     "output_type": "execute_result"
    }
   ],
   "source": [
    "ac3c.LYR"
   ]
  },
  {
   "cell_type": "code",
   "execution_count": 36,
   "id": "271ee027",
   "metadata": {},
   "outputs": [
    {
     "data": {
      "text/plain": [
       "15.465556"
      ]
     },
     "execution_count": 36,
     "metadata": {},
     "output_type": "execute_result"
    }
   ],
   "source": [
    "ac3c.LYR['lon']"
   ]
  },
  {
   "cell_type": "code",
   "execution_count": null,
   "id": "7e827719",
   "metadata": {},
   "outputs": [],
   "source": []
  }
 ],
 "metadata": {
  "kernelspec": {
   "display_name": "Python 3 (ipykernel)",
   "language": "python",
   "name": "python3"
  },
  "language_info": {
   "codemirror_mode": {
    "name": "ipython",
    "version": 3
   },
   "file_extension": ".py",
   "mimetype": "text/x-python",
   "name": "python",
   "nbconvert_exporter": "python",
   "pygments_lexer": "ipython3",
   "version": "3.9.7"
  }
 },
 "nbformat": 4,
 "nbformat_minor": 5
}
