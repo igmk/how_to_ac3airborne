{
 "cells": [
  {
   "cell_type": "markdown",
   "id": "prospective-hampshire",
   "metadata": {},
   "source": [
    "# Land-ocean mask\n",
    "In this example we show how a land ocean mask can be applied to the flight path. The decision is based on `cartopy.io.shapereader.natural_earth(resolution='10m', category='physical', name='land')`. All functionality is packed into a routine `is_land()`, which is part of the `ac3airborne` toolbox."
   ]
  },
  {
   "cell_type": "code",
   "execution_count": 4,
   "id": "universal-wrapping",
   "metadata": {},
   "outputs": [],
   "source": [
    "from ac3airborne.tools import is_land as il\n",
    "import ac3airborne\n",
    "from simplification.cutil import simplify_coords_idx"
   ]
  },
  {
   "cell_type": "markdown",
   "id": "violent-control",
   "metadata": {},
   "source": [
    "For example check if Cologne, Germany is on land:"
   ]
  },
  {
   "cell_type": "code",
   "execution_count": 5,
   "id": "english-division",
   "metadata": {},
   "outputs": [
    {
     "data": {
      "text/plain": [
       "True"
      ]
     },
     "execution_count": 5,
     "metadata": {},
     "output_type": "execute_result"
    }
   ],
   "source": [
    "lat = 50.938056\n",
    "lon = 6.956944\n",
    "\n",
    "il.is_land(lon, lat)"
   ]
  },
  {
   "cell_type": "markdown",
   "id": "trained-america",
   "metadata": {},
   "source": [
    "Now plot the flight with different colors over land or over ocean:"
   ]
  },
  {
   "cell_type": "code",
   "execution_count": 6,
   "id": "loved-maine",
   "metadata": {},
   "outputs": [],
   "source": [
    "import matplotlib.pyplot as plt\n",
    "import cartopy.crs as ccrs\n",
    "import cartopy.feature as cfeature\n",
    "import numpy as np"
   ]
  },
  {
   "cell_type": "code",
   "execution_count": 7,
   "id": "bebf3f9d-ae6d-471d-82bc-20938d2e6ea8",
   "metadata": {},
   "outputs": [],
   "source": [
    "def simplify_dataset(ds, tolerance):\n",
    "    indices_to_take = simplify_coords_idx(np.stack([ds.lat.values, ds.lon.values], axis=1), tolerance)\n",
    "    return ds.isel(time=indices_to_take)"
   ]
  },
  {
   "cell_type": "code",
   "execution_count": 8,
   "id": "97468585-19f8-417e-a4c4-fbeb082661bc",
   "metadata": {},
   "outputs": [],
   "source": [
    "cat = ac3airborne.get_intake_catalog()"
   ]
  },
  {
   "cell_type": "code",
   "execution_count": 9,
   "id": "b7f63e97-2307-4176-99c8-f1b153ae4c6f",
   "metadata": {},
   "outputs": [],
   "source": [
    "ds_gps = cat['P5']['GPS_INS']['ACLOUD_P5_RF14'].to_dask()"
   ]
  },
  {
   "cell_type": "code",
   "execution_count": 10,
   "id": "052a1643-4064-4083-900d-0427cf0b572b",
   "metadata": {},
   "outputs": [],
   "source": [
    "ds_gps = ds_gps.isel(time=slice(1,-1))"
   ]
  },
  {
   "cell_type": "code",
   "execution_count": 11,
   "id": "e165e06a-5b8c-49ff-ad77-8ff93bcdef53",
   "metadata": {},
   "outputs": [],
   "source": [
    "dsreduced = simplify_dataset(ds_gps, 1e-3)"
   ]
  },
  {
   "cell_type": "code",
   "execution_count": 12,
   "id": "valuable-woman",
   "metadata": {},
   "outputs": [],
   "source": [
    "# prepare for plotting\n",
    "proj   = ccrs.NorthPolarStereo()\n",
    "extent = (-5.0, 24.0, 78.0, 83.0)\n",
    "\n",
    "fig = plt.figure(figsize=(15, 15))\n",
    "ax = plt.axes(projection=proj)\n",
    "ax.set_extent(extent)\n",
    "\n",
    "ax.add_feature(cfeature.OCEAN)\n",
    "ax.add_feature(cfeature.LAND)\n",
    "ax.gridlines()\n",
    "ax.coastlines()\n",
    "\n",
    "nya_lat = 78.924444\n",
    "nya_lon = 11.928611\n",
    "\n",
    "ax.plot(nya_lon, nya_lat, 'ro', transform=ccrs.PlateCarree())\n",
    "ax.text(nya_lon, nya_lat+0.05, 'Ny-Ålesund', transform=ccrs.PlateCarree())\n",
    "\n",
    "#for x, y in zip(ds_gps.lon, ds_gps.lat):\n",
    "for x, y in zip(dsreduced.lon, dsreduced.lat):\n",
    "    if il.is_land(x, y):\n",
    "        ax.scatter(x, y, transform=ccrs.PlateCarree(), c='red')\n",
    "    else:\n",
    "        ax.scatter(x, y, transform=ccrs.PlateCarree(), c='green')"
   ]
  },
  {
   "cell_type": "code",
   "execution_count": null,
   "id": "antique-singer",
   "metadata": {},
   "outputs": [],
   "source": []
  }
 ],
 "metadata": {
  "kernelspec": {
   "display_name": "Python 3",
   "language": "python",
   "name": "python3"
  },
  "language_info": {
   "codemirror_mode": {
    "name": "ipython",
    "version": 3
   },
   "file_extension": ".py",
   "mimetype": "text/x-python",
   "name": "python",
   "nbconvert_exporter": "python",
   "pygments_lexer": "ipython3",
   "version": "3.8.10"
  }
 },
 "nbformat": 4,
 "nbformat_minor": 5
}
