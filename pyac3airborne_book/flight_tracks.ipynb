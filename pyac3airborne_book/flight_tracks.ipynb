{
 "cells": [
  {
   "cell_type": "markdown",
   "metadata": {},
   "source": [
    "## Flight description"
   ]
  },
  {
   "cell_type": "markdown",
   "metadata": {},
   "source": [
    "# flight-phase-separation\n",
    "\n",
    "The idea behind floght phase separation is to be able to select segments of flights according to their properties. The selection can be done by attributes like names and further on levels and is applied to the platform and instrument data by using start and end datetime objects belonging to the segment.\n",
    "\n",
    "## Flight segments\n",
    "### Keyword: kinds\n",
    "This table provides an overview of the keywords used to describe the flight segments. Multiple keywords can be used for one flight segment.\n",
    "\n",
    "#### ascends and descends\n",
    "| kinds           | description                                                              |\n",
    "| --------------- | ------------------------------------------------------------------------ |\n",
    "| major_ascend    | takeoff from the airport until a constant flight level is reached        |\n",
    "| major_descend   | last descend from a constant flight level befor landing at the airport   |\n",
    "| small_ascend    | ascend of less than 1 km height difference between start and end times   |\n",
    "| small_descend   | descend of less than 1 km height difference between start and end times  |\n",
    "| large_ascend    | ascend of more than 1 km height difference between start and end times   |\n",
    "| large_descend   | descend of more than 1 km height difference between start and end times  |\n",
    "| profiling       | ascend or descend with vertical speed mostly between 5-10 m/s            |\n",
    "\n",
    "#### flight altitude\n",
    "| kinds         | description                                     |\n",
    "| ------------- | ----------------------------------------------- |\n",
    "| low_level     | constant flight level at < 1 km altitude        |\n",
    "| mid_level     | constant flight level at 1-2 km altitude        |\n",
    "| high_level    | constant flight level at > 2 km altitude        |\n",
    "\n",
    "#### overflights and underflights\n",
    "| kinds               | description                                                                                         |\n",
    "| ------------------- | --------------------------------------------------------------------------------------------------- |\n",
    "| nya_overflight      | Overflight over the Ny-Alesund research station. Might be combined or together with *cross_pattern* |\n",
    "| ps_overflight       | Overflight over the Ny-Alesund research station. Might be combined or together with *cross_pattern* |\n",
    "| a-train_underflight | test        |\n",
    "\n",
    "#### pattern\n",
    "\n",
    "Pattern usually consist of parts like legs and turns named accordingly. \n",
    "| kinds                 |                                                                                                                                  |\n",
    "| ----------------------|----------------------------------------------------------------------------------------------------------------------------------|\n",
    "| cross_pattern         | rectangular crosses with transfer legs in between. Usually flown over Ny-Alesund, Polarstern, or once over Longyearbyen airport. | \n",
    "| racetrack_pattern     | |\n",
    "| holding_pattern       | |\n",
    "| staircase_pattern     | |\n",
    "| sawtooth_pattern      | |\n",
    "\n",
    "#### turn\n",
    "| kinds          |             |\n",
    "|----------------|-------------|\n",
    "| short_turn     |             |\n",
    "| long_turn      |             |\n",
    "| procedure_turn |             |\n",
    "\n",
    "This table is just a template!\n",
    "\n",
    "## Updating *all_flights.yaml*\n",
    "When creating new or updated flight segment files, a new tag with a new veriosn number needs to be created and pushed to kick of the generation of the *all_flights.yaml*.\n",
    "\n",
    "```\n",
    "git add .\n",
    "git commmit\n",
    "git tag v0.1.2\n",
    "git push --tags\n",
    "```\n"
   ]
  }
 ],
 "metadata": {
  "kernelspec": {
   "display_name": "Python 3",
   "language": "python",
   "name": "python3"
  },
  "language_info": {
   "codemirror_mode": {
    "name": "ipython",
    "version": 3
   },
   "file_extension": ".py",
   "mimetype": "text/x-python",
   "name": "python",
   "nbconvert_exporter": "python",
   "pygments_lexer": "ipython3",
   "version": "3.8.5"
  }
 },
 "nbformat": 4,
 "nbformat_minor": 4
}
