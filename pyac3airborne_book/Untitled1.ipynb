{
 "cells": [
  {
   "cell_type": "code",
   "execution_count": 18,
   "metadata": {},
   "outputs": [],
   "source": [
    "%matplotlib inline\n",
    "import ac3airborne\n",
    "import matplotlib.pyplot as plt\n",
    "import numpy as np\n",
    "plt.style.use(\"mplstyle/book\")\n",
    "\n",
    "# load intake catalog and flight segments\n",
    "cat = ac3airborne.get_intake_catalog()\n",
    "meta = ac3airborne.get_flight_segments()\n",
    "\n",
    "# store data availability in a matrix\n",
    "data_availability = np.zeros(shape=(len(list(cat['P5'])),\n",
    "                                    len(list(meta['P5']))))"
   ]
  },
  {
   "cell_type": "code",
   "execution_count": 19,
   "metadata": {},
   "outputs": [
    {
     "data": {
      "text/plain": [
       "['GPS_INS',\n",
       " 'AMSR2_SIC',\n",
       " 'CLOUD_TOP_HEIGHT',\n",
       " 'MIRAC_A',\n",
       " 'MIRAC_P',\n",
       " 'HATPRO',\n",
       " 'NEVZOROV',\n",
       " 'CAS',\n",
       " 'CDP',\n",
       " 'CIP',\n",
       " 'PIP',\n",
       " 'PMS_COMBINED',\n",
       " 'DROPSONDES',\n",
       " 'FISH_EYE_CAMERA',\n",
       " 'BROADBAND_IRRADIANCE']"
      ]
     },
     "execution_count": 19,
     "metadata": {},
     "output_type": "execute_result"
    }
   ],
   "source": [
    "list(cat['P5'])"
   ]
  },
  {
   "cell_type": "code",
   "execution_count": 20,
   "metadata": {},
   "outputs": [
    {
     "data": {
      "text/plain": [
       "['AFLUX_polar5_RF03',\n",
       " 'AFLUX_polar5_RF04',\n",
       " 'AFLUX_polar5_RF05',\n",
       " 'AFLUX_polar5_RF06',\n",
       " 'AFLUX_polar5_RF07',\n",
       " 'AFLUX_polar5_RF08',\n",
       " 'AFLUX_polar5_RF09',\n",
       " 'AFLUX_polar5_RF10',\n",
       " 'AFLUX_polar5_RF11',\n",
       " 'AFLUX_polar5_RF12',\n",
       " 'AFLUX_polar5_RF13',\n",
       " 'AFLUX_polar5_RF14',\n",
       " 'AFLUX_polar5_RF15',\n",
       " 'MOSAiC-ACA_polar5_RF03',\n",
       " 'MOSAiC-ACA_polar5_RF05',\n",
       " 'MOSAiC-ACA_polar5_RF06',\n",
       " 'MOSAiC-ACA_polar5_RF07',\n",
       " 'MOSAiC-ACA_polar5_RF08',\n",
       " 'MOSAiC-ACA_polar5_RF09',\n",
       " 'MOSAiC-ACA_polar5_RF10',\n",
       " 'MOSAiC-ACA_polar5_RF11']"
      ]
     },
     "execution_count": 20,
     "metadata": {},
     "output_type": "execute_result"
    }
   ],
   "source": [
    "list(cat['P5']['PMS_COMBINED'])"
   ]
  }
 ],
 "metadata": {
  "kernelspec": {
   "display_name": "Python 3",
   "language": "python",
   "name": "python3"
  },
  "language_info": {
   "codemirror_mode": {
    "name": "ipython",
    "version": 3
   },
   "file_extension": ".py",
   "mimetype": "text/x-python",
   "name": "python",
   "nbconvert_exporter": "python",
   "pygments_lexer": "ipython3",
   "version": "3.8.10"
  }
 },
 "nbformat": 4,
 "nbformat_minor": 4
}
