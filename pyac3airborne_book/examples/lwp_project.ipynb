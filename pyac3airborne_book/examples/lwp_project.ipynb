{
 "cells": [
  {
   "cell_type": "markdown",
   "metadata": {},
   "source": [
    "## Liquid water path (LWP) from different sources\n",
    "\n",
    "Analysis of LWP derived from 89 GHz airborne measurements with the Microwave Radar and radiometer ([MiRAC; Mech et al. 2019](\"https://amt.copernicus.org/articles/12/5019/2019/\")) onboard Polar 5, ERA5 reanalysis, ICON models simulations, and the satellite products from MODIS and AMSR2 of the the 7th September 2020, a day of the MOSAiC-ACA airborne campaign.\n",
    "\n",
    "**QUESTION**: \n",
    "  * How much LWP did we have? \n",
    "  * What is the variability of LWP along the flightrack? \n",
    "  * How does the airborne LWP compare to satellite (MODIS, AMSR), reanalysis and model (ERA5, ICON) data?\n",
    "\n",
    "**Literature**\n",
    "\n",
    "Some suggestions to start with are:\n",
    "\n",
    "  * Mech, M., L.-L. Kliesch, A. Anhäuser, T. Rose, P. Kollias and S. Crewell, 2019: Microwave Radar/radiometer for Arctic Clouds MiRAC: first insights from the ACLOUD campaign, Atmospheric Measurement Techniques, 12, 5019–5037, [https://doi.org/10.5194/amt-12-5019-2019](\"https://amt.copernicus.org/articles/12/5019/2019/\")\n",
    "  * Wendisch, M., et al., 2019: The Arctic Cloud Puzzle: Using ACLOUD/PASCAL Multi-Platform Observations to Unravel the Role of Clouds and Aerosol Particles in Arctic Amplification, Bulletin of the American Meteorological Society, 100 (5), 841-871, [https://doi.org/10.1175/BAMS-D-18-0072.1](\"https://journals.ametsoc.org/view/journals/bams/100/5/bams-d-18-0072.1.xml\")\n",
    "  * Ruiz-Donoso, E., Ehrlich, A., Schäfer, M., Jäkel, E., Schemann, V., Crewell, S., Mech, M., Kulla, B. S., Kliesch, L.-L., Neuber, R., and Wendisch, M., 2020: Small-scale structure of thermodynamic phase in Arctic mixed-phase clouds observed by airborne remote sensing during a cold air outbreak and a warm air advection event, Atmospheric Chemistry and Physics, 20, 5487–5511, [https://doi.org/10.5194/acp-20-5487-2020](\"https://acp.copernicus.org/articles/20/5487/2020/\").\n",
    "  * Elsaesser, G. S., O’Dell, C. W., Lebsock, M. D., Bennartz, R., Greenwald, T. J., and Wentz, F. J., 2017: The Multisensor Advanced Climatology ofLiquid Water Path (MAC-LWP), Journal of Climate, 30, 10 193–10 210, [https://doi.org/10.1175/JCLI-D-16-0902.1](\"https://doi.org/10.1175/JCLI-D-16-0902.1\").\n",
    "  * Jacob, M., Ament, F., Gutleben, M., Konow, H., Mech, M., Wirth, M., and Crewell, S., 2019: Investigating the liquid water path over the tropicalAtlantic with synergistic airborne measurements, Atmospheric Measurement Techniques, 12, 3237–3254, [https://doi.org/10.5194/amt-12-6103237-2019](\"https://doi.org/10.5194/amt-12-6103237-2019\")."
   ]
  },
  {
   "cell_type": "markdown",
   "metadata": {},
   "source": [
    "### Overview of research flight RF07 on 07.09.2020\n",
    "In August/September 2020, the MOSAiC-ACA campaign took place in the Fam strait and around Svalbard with base in Longyearbyen. The [flight reports](\"https://home.uni-leipzig.de/~ehrlich/MOSAiC_ACA_wiki_doku/lib/exe/fetch.php?media=07_20200907_mosaic-aca_flight_report.pdf\") give a more detauled overview on the performed flights and conditions during the campaign. A more technical overview is on the [wiki page](\"https://home.uni-leipzig.de/~ehrlich/MOSAiC_ACA_wiki_doku/doku.php\").\n",
    "\n",
    "Focus of the RF07 on 07.09.2020, the flight which is discussed in the project, was the remote sensing of the different cloud regimes North West of Svalbard."
   ]
  },
  {
   "cell_type": "code",
   "execution_count": 1,
   "metadata": {},
   "outputs": [
    {
     "name": "stdout",
     "output_type": "stream",
     "text": [
      "Populating the interactive namespace from numpy and matplotlib\n"
     ]
    },
    {
     "ename": "FileNotFoundError",
     "evalue": "[Errno 2] No such file or directory: 'map_MOSAiC-ACA_20200907.png'",
     "output_type": "error",
     "traceback": [
      "\u001b[0;31m---------------------------------------------------------------------------\u001b[0m",
      "\u001b[0;31mFileNotFoundError\u001b[0m                         Traceback (most recent call last)",
      "\u001b[0;32m<ipython-input-1-277a16903eaa>\u001b[0m in \u001b[0;36m<module>\u001b[0;34m\u001b[0m\n\u001b[1;32m      1\u001b[0m \u001b[0mget_ipython\u001b[0m\u001b[0;34m(\u001b[0m\u001b[0;34m)\u001b[0m\u001b[0;34m.\u001b[0m\u001b[0mrun_line_magic\u001b[0m\u001b[0;34m(\u001b[0m\u001b[0;34m'pylab'\u001b[0m\u001b[0;34m,\u001b[0m \u001b[0;34m'inline'\u001b[0m\u001b[0;34m)\u001b[0m\u001b[0;34m\u001b[0m\u001b[0;34m\u001b[0m\u001b[0m\n\u001b[1;32m      2\u001b[0m \u001b[0;32mimport\u001b[0m \u001b[0mmatplotlib\u001b[0m\u001b[0;34m.\u001b[0m\u001b[0mimage\u001b[0m \u001b[0;32mas\u001b[0m \u001b[0mmpimg\u001b[0m\u001b[0;34m\u001b[0m\u001b[0;34m\u001b[0m\u001b[0m\n\u001b[0;32m----> 3\u001b[0;31m \u001b[0mimg\u001b[0m \u001b[0;34m=\u001b[0m \u001b[0mmpimg\u001b[0m\u001b[0;34m.\u001b[0m\u001b[0mimread\u001b[0m\u001b[0;34m(\u001b[0m\u001b[0;34m'map_MOSAiC-ACA_20200907.png'\u001b[0m\u001b[0;34m)\u001b[0m\u001b[0;34m\u001b[0m\u001b[0;34m\u001b[0m\u001b[0m\n\u001b[0m\u001b[1;32m      4\u001b[0m \u001b[0mfig\u001b[0m\u001b[0;34m,\u001b[0m \u001b[0max\u001b[0m \u001b[0;34m=\u001b[0m \u001b[0mplt\u001b[0m\u001b[0;34m.\u001b[0m\u001b[0msubplots\u001b[0m\u001b[0;34m(\u001b[0m\u001b[0;36m1\u001b[0m\u001b[0;34m,\u001b[0m \u001b[0;36m1\u001b[0m\u001b[0;34m,\u001b[0m \u001b[0mfigsize\u001b[0m\u001b[0;34m=\u001b[0m\u001b[0;34m(\u001b[0m\u001b[0;36m8\u001b[0m\u001b[0;34m,\u001b[0m \u001b[0;36m8\u001b[0m\u001b[0;34m)\u001b[0m\u001b[0;34m)\u001b[0m\u001b[0;34m\u001b[0m\u001b[0;34m\u001b[0m\u001b[0m\n\u001b[1;32m      5\u001b[0m \u001b[0mimgplot\u001b[0m \u001b[0;34m=\u001b[0m \u001b[0max\u001b[0m\u001b[0;34m.\u001b[0m\u001b[0mimshow\u001b[0m\u001b[0;34m(\u001b[0m\u001b[0mimg\u001b[0m\u001b[0;34m)\u001b[0m\u001b[0;34m\u001b[0m\u001b[0;34m\u001b[0m\u001b[0m\n",
      "\u001b[0;32m/usr/local/lib/python3.8/dist-packages/matplotlib/image.py\u001b[0m in \u001b[0;36mimread\u001b[0;34m(fname, format)\u001b[0m\n\u001b[1;32m   1494\u001b[0m                     \u001b[0mresponse\u001b[0m \u001b[0;34m=\u001b[0m \u001b[0mio\u001b[0m\u001b[0;34m.\u001b[0m\u001b[0mBytesIO\u001b[0m\u001b[0;34m(\u001b[0m\u001b[0mresponse\u001b[0m\u001b[0;34m.\u001b[0m\u001b[0mread\u001b[0m\u001b[0;34m(\u001b[0m\u001b[0;34m)\u001b[0m\u001b[0;34m)\u001b[0m\u001b[0;34m\u001b[0m\u001b[0;34m\u001b[0m\u001b[0m\n\u001b[1;32m   1495\u001b[0m                 \u001b[0;32mreturn\u001b[0m \u001b[0mimread\u001b[0m\u001b[0;34m(\u001b[0m\u001b[0mresponse\u001b[0m\u001b[0;34m,\u001b[0m \u001b[0mformat\u001b[0m\u001b[0;34m=\u001b[0m\u001b[0mext\u001b[0m\u001b[0;34m)\u001b[0m\u001b[0;34m\u001b[0m\u001b[0;34m\u001b[0m\u001b[0m\n\u001b[0;32m-> 1496\u001b[0;31m     \u001b[0;32mwith\u001b[0m \u001b[0mimg_open\u001b[0m\u001b[0;34m(\u001b[0m\u001b[0mfname\u001b[0m\u001b[0;34m)\u001b[0m \u001b[0;32mas\u001b[0m \u001b[0mimage\u001b[0m\u001b[0;34m:\u001b[0m\u001b[0;34m\u001b[0m\u001b[0;34m\u001b[0m\u001b[0m\n\u001b[0m\u001b[1;32m   1497\u001b[0m         return (_pil_png_to_float_array(image)\n\u001b[1;32m   1498\u001b[0m                 \u001b[0;32mif\u001b[0m \u001b[0misinstance\u001b[0m\u001b[0;34m(\u001b[0m\u001b[0mimage\u001b[0m\u001b[0;34m,\u001b[0m \u001b[0mPIL\u001b[0m\u001b[0;34m.\u001b[0m\u001b[0mPngImagePlugin\u001b[0m\u001b[0;34m.\u001b[0m\u001b[0mPngImageFile\u001b[0m\u001b[0;34m)\u001b[0m \u001b[0;32melse\u001b[0m\u001b[0;34m\u001b[0m\u001b[0;34m\u001b[0m\u001b[0m\n",
      "\u001b[0;32m/usr/lib/python3/dist-packages/PIL/ImageFile.py\u001b[0m in \u001b[0;36m__init__\u001b[0;34m(self, fp, filename)\u001b[0m\n\u001b[1;32m     93\u001b[0m         \u001b[0;32mif\u001b[0m \u001b[0misPath\u001b[0m\u001b[0;34m(\u001b[0m\u001b[0mfp\u001b[0m\u001b[0;34m)\u001b[0m\u001b[0;34m:\u001b[0m\u001b[0;34m\u001b[0m\u001b[0;34m\u001b[0m\u001b[0m\n\u001b[1;32m     94\u001b[0m             \u001b[0;31m# filename\u001b[0m\u001b[0;34m\u001b[0m\u001b[0;34m\u001b[0m\u001b[0;34m\u001b[0m\u001b[0m\n\u001b[0;32m---> 95\u001b[0;31m             \u001b[0mself\u001b[0m\u001b[0;34m.\u001b[0m\u001b[0mfp\u001b[0m \u001b[0;34m=\u001b[0m \u001b[0mopen\u001b[0m\u001b[0;34m(\u001b[0m\u001b[0mfp\u001b[0m\u001b[0;34m,\u001b[0m \u001b[0;34m\"rb\"\u001b[0m\u001b[0;34m)\u001b[0m\u001b[0;34m\u001b[0m\u001b[0;34m\u001b[0m\u001b[0m\n\u001b[0m\u001b[1;32m     96\u001b[0m             \u001b[0mself\u001b[0m\u001b[0;34m.\u001b[0m\u001b[0mfilename\u001b[0m \u001b[0;34m=\u001b[0m \u001b[0mfp\u001b[0m\u001b[0;34m\u001b[0m\u001b[0;34m\u001b[0m\u001b[0m\n\u001b[1;32m     97\u001b[0m             \u001b[0mself\u001b[0m\u001b[0;34m.\u001b[0m\u001b[0m_exclusive_fp\u001b[0m \u001b[0;34m=\u001b[0m \u001b[0;32mTrue\u001b[0m\u001b[0;34m\u001b[0m\u001b[0;34m\u001b[0m\u001b[0m\n",
      "\u001b[0;31mFileNotFoundError\u001b[0m: [Errno 2] No such file or directory: 'map_MOSAiC-ACA_20200907.png'"
     ]
    }
   ],
   "source": [
    "%pylab inline\n",
    "import matplotlib.image as mpimg\n",
    "img = mpimg.imread('map_MOSAiC-ACA_20200907.png')\n",
    "fig, ax = plt.subplots(1, 1, figsize=(8, 8))\n",
    "imgplot = ax.imshow(img)"
   ]
  },
  {
   "cell_type": "markdown",
   "metadata": {},
   "source": [
    "## Liquid water path retrieval from brightness temperature observations\n",
    "\n",
    "In general, liquid water clouds increase the brightness temperature ($T_b$) observed by microwave instruments by emission. This increase in $T_b$ makes them visible in front of the colder background, like the ocean surface with the much lower emissivity and enables us to derive the liquid water path ($LWP$) from observations. The methods to perform such a derivations are called retrieval algorithms.\n",
    "\n",
    "Very simple but handy algorithms are linear or multiple regressions. Thereby, coefficients for fitting curves are derived based on a sufficiently large amount of pairs of observed $T_bs$ and $LWP$s. Such pairs can be generated from atmospheric model runs in combination with radiative transfer models. Here we use the ICOsahedral Non-hydrostatic (ICON) model together with the Passive and Active Microwave TRAnsfer model ([PAMTRA; Mech et al., 2020](\"https://gmd.copernicus.org/articles/13/4229/2020/\")) to generate a database of $T_b$s and $LWP$s. In the algortihm used here, the difference between cloudy and nearby clear sky $T_b$ is used as input for the retrieval. Since observations are difficult over sea ice or the marginal sea ice zone (MIZ) due to their unknown surface emissivity (the one over ocean can be calculated), only sea ice free observations and simulations are used. \n",
    "\n",
    "In this example we use a cubic regression for the derivation of the liquid water path.\n",
    "\n",
    "$LWP = c_1 (\\Delta T_b) + c_2 (\\Delta T_b)^2 + c_3 (\\Delta T_b)^3 ~~~~ \\mathrm{with} ~~~~ \\Delta T_b = T_b - T_0$\n",
    "\n",
    "The following steps describe how the coefficients are generated."
   ]
  },
  {
   "cell_type": "markdown",
   "metadata": {},
   "source": [
    "### Collcection of methods for the project work"
   ]
  },
  {
   "cell_type": "code",
   "execution_count": null,
   "metadata": {},
   "outputs": [],
   "source": [
    "from scipy.spatial import KDTree\n",
    "\n",
    "class field_kdtree(object):\n",
    "    \"\"\"\n",
    "    KDtree are described on for example on https://towardsdatascience.com/using-scikit-learns-binary-trees-to-efficiently-find-latitude-and-longitude-neighbors-909979bd929b\n",
    "\n",
    "    \"\"\"\n",
    "\n",
    "    def __init__(self, field_lat,field_lon,isRad=True):\n",
    "        \n",
    "        self.kdtree = {}\n",
    "        \n",
    "        if isRad:\n",
    "            field_lat = np.rad2deg(field_lat)\n",
    "            field_lon = np.rad2deg(field_lon)\n",
    "        self.kdtree = KDTree(np.asarray([field_lat.flatten(),field_lon.flatten()]).T)\n",
    "\n",
    "    def query(self,path_ds):\n",
    "\n",
    "        distance, indices1d = self.kdtree.query(np.asarray([\n",
    "                    path_ds.lat.values,\n",
    "                    path_ds.lon.values\n",
    "                ]).T)\n",
    "\n",
    "\n",
    "        return indices1d"
   ]
  },
  {
   "cell_type": "code",
   "execution_count": null,
   "metadata": {},
   "outputs": [],
   "source": [
    "import gdal\n",
    "import cartopy.crs as ccrs\n",
    "import pandas as pd"
   ]
  },
  {
   "cell_type": "code",
   "execution_count": null,
   "metadata": {},
   "outputs": [],
   "source": [
    "def load_data(FILEPATH):\n",
    "    ds = gdal.Open(FILEPATH)\n",
    "    return ds\n",
    "    \n",
    "# Opens the data HDF file and returns as a dataframe\n",
    "def read_dataset(SUBDATASET_NAME, FILEPATH):\n",
    "    dataset = load_data(FILEPATH)\n",
    "    path = ''\n",
    "    for sub, description in dataset.GetSubDatasets():\n",
    "        if (description.endswith(SUBDATASET_NAME)):\n",
    "            path = sub\n",
    "            break\n",
    "    if(path == ''):\n",
    "        print(SUBDATASET_NAME + ' not found')\n",
    "        return\n",
    "    subdataset = gdal.Open(path)\n",
    "    subdataset = subdataset.ReadAsArray()\n",
    "    subdataset = pd.DataFrame(subdataset)\n",
    "    return subdataset"
   ]
  },
  {
   "cell_type": "markdown",
   "metadata": {},
   "source": [
    "### Open PAMTRA simulations"
   ]
  },
  {
   "cell_type": "markdown",
   "metadata": {},
   "source": [
    "PAMTRA simulations for 89 GHz based on ICON atmospheric model simulations for the 07.09.2020. Only profiles over ocean have been included. lat/lon and the water paths for cloud, ice, rain, snow, graupel, and hail are directly the integrated values from the ICON model relevant for the retrieval. "
   ]
  },
  {
   "cell_type": "code",
   "execution_count": null,
   "metadata": {},
   "outputs": [],
   "source": [
    "import xarray as xr"
   ]
  },
  {
   "cell_type": "code",
   "execution_count": null,
   "metadata": {},
   "outputs": [],
   "source": [
    "ds_pam = xr.open_dataset('data/pamtra_icon_passive.nc') # open data set with PAMTRA simulations"
   ]
  },
  {
   "cell_type": "markdown",
   "metadata": {},
   "source": [
    "The MiRAC radar is mounted with 25° backwards. This is to reduce the strong surface reflectivity which would lead to saturation in the receiver. In the simulations we have to consider the same angle."
   ]
  },
  {
   "cell_type": "code",
   "execution_count": null,
   "metadata": {},
   "outputs": [],
   "source": [
    "tb = ds_pam['tb'][:,0,0,4,0,1] # dims(nx,ny,nf,nang,nobs,npol) get the horizontal (npol=1) polarization at ~25° (nang=4), cause MiRAC-A 89 GHz is horizontally polarized"
   ]
  },
  {
   "cell_type": "code",
   "execution_count": null,
   "metadata": {},
   "outputs": [],
   "source": [
    "twp = ds_pam['cwp']+ds_pam['iwp']+ds_pam['rwp']+ds_pam['swp']+ds_pam['gwp']+ds_pam['hwp'] # this is the total integrated hydrometeor content from the ICON simulation"
   ]
  },
  {
   "cell_type": "code",
   "execution_count": null,
   "metadata": {},
   "outputs": [],
   "source": [
    "plot(tb[twp[:,0] < 0.00001],'r.') # brightness temperature where total water path (twp) content is very small"
   ]
  },
  {
   "cell_type": "code",
   "execution_count": null,
   "metadata": {},
   "outputs": [],
   "source": [
    "tb_clear = tb[twp[:,0] < 0.00001].mean() #  find the mean clear sky brightness temperature"
   ]
  },
  {
   "cell_type": "code",
   "execution_count": null,
   "metadata": {},
   "outputs": [],
   "source": [
    "tb_diff = tb - tb_clear # this is the field of brightness temperature differences that enters the retrieval development"
   ]
  },
  {
   "cell_type": "markdown",
   "metadata": {},
   "source": [
    "### Develop retrieval coefficients for liquid water path"
   ]
  },
  {
   "cell_type": "markdown",
   "metadata": {},
   "source": [
    "The process of finding the coefficients of a regression or a neural network is called developping. Here use the *curve_fit* method from *scipy.optimize*. "
   ]
  },
  {
   "cell_type": "code",
   "execution_count": null,
   "metadata": {},
   "outputs": [],
   "source": [
    "from scipy.optimize import curve_fit"
   ]
  },
  {
   "cell_type": "markdown",
   "metadata": {},
   "source": [
    "Define a function that does the regression. Here we use a cubic function."
   ]
  },
  {
   "cell_type": "code",
   "execution_count": null,
   "metadata": {},
   "outputs": [],
   "source": [
    "def cubic_regression(x,c1, c2, c3):return c1*x+c2*x**2+c3*x**3"
   ]
  },
  {
   "cell_type": "markdown",
   "metadata": {},
   "source": [
    "Get parameters for the cubic regression that will be applied to the brightness temperature differences."
   ]
  },
  {
   "cell_type": "code",
   "execution_count": null,
   "metadata": {},
   "outputs": [],
   "source": [
    "c1,c2,c3 = curve_fit(cubic_regression, tb_diff.values,ds_pam['cwp'][:,0].values)[0]"
   ]
  },
  {
   "cell_type": "markdown",
   "metadata": {},
   "source": [
    "Apply coefficients to simulated brightness temperatures as self test"
   ]
  },
  {
   "cell_type": "code",
   "execution_count": null,
   "metadata": {},
   "outputs": [],
   "source": [
    "lwp = c1*tb_diff+c2*tb_diff**2+c3*tb_diff**3"
   ]
  },
  {
   "cell_type": "code",
   "execution_count": null,
   "metadata": {},
   "outputs": [],
   "source": [
    "scatter(lwp,ds_pam['cwp'][:,0],c=twp)\n",
    "plot([0,1,2],'k')\n",
    "xlabel('LWP retrieved [$\\mathrm{kg/{m^2}}$]')\n",
    "ylabel('LWP simulated [$\\mathrm{kg/{m^2}}$]')"
   ]
  },
  {
   "cell_type": "markdown",
   "metadata": {},
   "source": [
    "### Read in  airborne data"
   ]
  },
  {
   "cell_type": "markdown",
   "metadata": {},
   "source": [
    "For the comparison of liquid water path between airborne observations, model and reanalysis output, and satellite measurements we concentrate on observations over ocean from the 07.09.2020, RF07 of the [MOSAiC-ACA campaign](\"https://home.uni-leipzig.de/~ehrlich/MOSAiC_ACA_wiki_doku/doku.php?id=start\")"
   ]
  },
  {
   "cell_type": "code",
   "execution_count": null,
   "metadata": {},
   "outputs": [],
   "source": [
    "import ac3airborne # load the ac3 airborne module"
   ]
  },
  {
   "cell_type": "code",
   "execution_count": null,
   "metadata": {},
   "outputs": [],
   "source": [
    "cat = ac3airborne.get_intake_catalog() # get the intake catalogue for the data"
   ]
  },
  {
   "cell_type": "code",
   "execution_count": null,
   "metadata": {},
   "outputs": [],
   "source": [
    "flight_id = 'MOSAiC-ACA_P5_RF07' # define flight"
   ]
  },
  {
   "cell_type": "code",
   "execution_count": null,
   "metadata": {},
   "outputs": [],
   "source": [
    "seaice = cat.Polar5.AMSR2_SIC[flight_id].to_dask() #  get sea ice data"
   ]
  },
  {
   "cell_type": "code",
   "execution_count": null,
   "metadata": {},
   "outputs": [],
   "source": [
    "def consecutive_valid(data, N):\n",
    "    \"\"\"\n",
    "    This function selects all sections longer than N consecutive data points that are not equal nan.\n",
    "    \"\"\"\n",
    "    #if (N % 2) != 0: N=2*(N//2)+1 # check for add N\n",
    "    #return data.loc[np.isfinite(data.rolling(time=N, min_periods=N, center=True).sum().rolling(time=N, min_periods=1, center=True).sum())]\n",
    "    return data.loc[np.isfinite(data[::-1].rolling(time=N, min_periods=N, center=True).sum()[::-1].rolling(time=N, min_periods=1, center=True).sum())]\n"
   ]
  },
  {
   "cell_type": "code",
   "execution_count": null,
   "metadata": {},
   "outputs": [],
   "source": [
    "open_ocean = seaice.where(seaice.sic == 0)"
   ]
  },
  {
   "cell_type": "code",
   "execution_count": null,
   "metadata": {},
   "outputs": [],
   "source": [
    "long_ocean_sections = consecutive_valid(open_ocean['sic'],60*30).dropna('time')"
   ]
  },
  {
   "cell_type": "code",
   "execution_count": null,
   "metadata": {},
   "outputs": [],
   "source": [
    "track = cat.Polar5.GPS_INS[flight_id].to_dask() # get position and attitude of platform"
   ]
  },
  {
   "cell_type": "code",
   "execution_count": null,
   "metadata": {},
   "outputs": [],
   "source": [
    "track_ocean = track.loc[dict(time=long_ocean_sections.time)]"
   ]
  },
  {
   "cell_type": "markdown",
   "metadata": {},
   "source": [
    "#### Cut out corners"
   ]
  },
  {
   "cell_type": "code",
   "execution_count": null,
   "metadata": {},
   "outputs": [],
   "source": [
    "meta = ac3airborne.get_flight_segments() # Get flight segments"
   ]
  },
  {
   "cell_type": "code",
   "execution_count": null,
   "metadata": {},
   "outputs": [],
   "source": [
    "import pandas as pd\n",
    "time_rng = pd.date_range(datetime.datetime.now().date(), periods=0, freq='S') # define empty pandas time range"
   ]
  },
  {
   "cell_type": "markdown",
   "metadata": {},
   "source": [
    "Get all high level segments of research flight _MOSAiC-ACA_P5_RF07_  and stick them together."
   ]
  },
  {
   "cell_type": "code",
   "execution_count": null,
   "metadata": {},
   "outputs": [],
   "source": [
    "for seg in meta['P5'][flight_id]['segments']:\n",
    "    if 'high_level' in seg['kinds']:\n",
    "        time_rng = time_rng.union(pd.date_range(seg['start'],seg['end'],freq='S'))"
   ]
  },
  {
   "cell_type": "code",
   "execution_count": null,
   "metadata": {},
   "outputs": [],
   "source": [
    "track_ocean_straight_legs = track_ocean.loc[dict(time=isin(track_ocean.time,time_rng))]"
   ]
  },
  {
   "cell_type": "code",
   "execution_count": null,
   "metadata": {},
   "outputs": [],
   "source": [
    "import cartopy.crs as ccrs\n",
    "import matplotlib.pyplot as plt\n",
    "data_crs = ccrs.PlateCarree()\n",
    "map_crs = ccrs.NorthPolarStereo()\n",
    "fig, ax = plt.subplots(1, 1, figsize=(5, 5), subplot_kw=dict(projection=map_crs))\n",
    "ax.coastlines()\n",
    "kwargs = dict(s=4, color='k', linewidths=0, transform=data_crs)\n",
    "ax.scatter(track.lon, track.lat, **kwargs)\n",
    "kwargs = dict(s=4, color='r', linewidths=0, transform=data_crs)\n",
    "ax.scatter(track_ocean.lon, track_ocean.lat, **kwargs)\n",
    "kwargs = dict(s=4, color='g', linewidths=0, transform=data_crs)\n",
    "ax.scatter(track_ocean_straight_legs.lon, track_ocean_straight_legs.lat, **kwargs)"
   ]
  },
  {
   "cell_type": "markdown",
   "metadata": {},
   "source": [
    "Clean up dataset before storing."
   ]
  },
  {
   "cell_type": "code",
   "execution_count": null,
   "metadata": {},
   "outputs": [],
   "source": [
    "track_ocean_straight_legs.attrs = dict()"
   ]
  },
  {
   "cell_type": "code",
   "execution_count": null,
   "metadata": {},
   "outputs": [],
   "source": [
    "track_ocean_straight_legs.drop_vars(['tas','vs','gs','pitch','roll','alt','heading']).to_netcdf('polar5_ocean_track_straight_legs.nc')"
   ]
  },
  {
   "cell_type": "markdown",
   "metadata": {},
   "source": [
    "_polar5_ocean_track_straight_legs.nc_ contains all times, latitudes, and longitudes that belong to observations along a straight line over open ocean. "
   ]
  },
  {
   "cell_type": "markdown",
   "metadata": {},
   "source": [
    "#### Get airborne brightness temperature measurements"
   ]
  },
  {
   "cell_type": "markdown",
   "metadata": {},
   "source": [
    "### Datasets and ToDos\n",
    "\n",
    "  * MiRAC airborne observations: _mirac_tbs.nc_\n",
    "  * PAMTRA simulations including ICON field: _pamtra_icon_passive.nc_\n",
    "  * ERA5 liquied water path field: _era5-gl_20200907_lwp.nc_\n",
    "  * MODIS observations and geolocation: _MOD06_L2.A2020251.1055.061.2020251195046.hdf_, _MOD03.A2020251.1055.061.2020251164154.hdf_\n",
    "  * AMSR2 dataset: _GW1AM2_202009070848_026A_L2SGCLWLD2210210.h5_\n",
    "\n",
    "Except for MODIS, all datasets are readable as xarrays. For MODIS, the routines are provided.\n",
    "\n",
    "The python class *field_kdtree* can be used to cut a path from a model field. In the initialization the field is passed and the query methods results in the indices of the field that are next to the path positions. "
   ]
  }
 ],
 "metadata": {
  "kernelspec": {
   "display_name": "Python 3",
   "language": "python",
   "name": "python3"
  },
  "language_info": {
   "codemirror_mode": {
    "name": "ipython",
    "version": 3
   },
   "file_extension": ".py",
   "mimetype": "text/x-python",
   "name": "python",
   "nbconvert_exporter": "python",
   "pygments_lexer": "ipython3",
   "version": "3.9.4"
  }
 },
 "nbformat": 4,
 "nbformat_minor": 4
}
